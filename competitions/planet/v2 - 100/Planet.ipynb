{
 "cells": [
  {
   "cell_type": "markdown",
   "metadata": {},
   "source": [
    "# Planet\n",
    "https://www.kaggle.com/c/planet-understanding-the-amazon-from-space"
   ]
  },
  {
   "cell_type": "code",
   "execution_count": 1,
   "metadata": {
    "collapsed": true
   },
   "outputs": [],
   "source": [
    "# Shell script for preparing data\n",
    "# cd data\n",
    "# mkdir planet\n",
    "# cd planet\n",
    "# kg download -u <username> -p <password> -c planet-understanding-the-amazon-from-space -f test-jpg-additional.tar.7z\n",
    "# kg download -u <username> -p <password> -c planet-understanding-the-amazon-from-space -f sample_submission_v2.csv.zip\n",
    "# kg download -u <username> -p <password> -c planet-understanding-the-amazon-from-space -f test-jpg.tar.7z\n",
    "# kg download -u <username> -p <password> -c planet-understanding-the-amazon-from-space -f test-jpg-additional.tar.7z\n",
    "# kg download -u <username> -p <password> -c planet-understanding-the-amazon-from-space -f train-jpg.tar.7z\n",
    "# kg download -u <username> -p <password> -c planet-understanding-the-amazon-from-space -f train_v2.csv.zip\n",
    "\n",
    "# 7z x test-jpg.tar.7z\n",
    "# tar xf test-jpg.tar\n",
    "\n",
    "# 7z x test-jpg-additional.tar.7z\n",
    "# tar xf test-jpg-additional.tar\n",
    "# mv test-jpg-additional/* test-jpg/\n",
    "\n",
    "# 7z x train-jpg.tar.7z\n",
    "# tar xf train-jpg.tar\n",
    "\n",
    "# unzip sample_submission_v2.zip\n",
    "# unzip train_v2.csv.zip"
   ]
  },
  {
   "cell_type": "code",
   "execution_count": 1,
   "metadata": {},
   "outputs": [],
   "source": [
    "# Put these at the top of every notebook, to get automatic reloading and inline plotting\n",
    "%reload_ext autoreload\n",
    "%autoreload 2\n",
    "%matplotlib inline"
   ]
  },
  {
   "cell_type": "code",
   "execution_count": 2,
   "metadata": {
    "collapsed": true
   },
   "outputs": [],
   "source": [
    "from fastai.imports import *"
   ]
  },
  {
   "cell_type": "code",
   "execution_count": 3,
   "metadata": {
    "collapsed": true
   },
   "outputs": [],
   "source": [
    "from fastai.transforms import *\n",
    "from fastai.conv_learner import *\n",
    "from fastai.model import *\n",
    "from fastai.dataset import *\n",
    "from fastai.sgdr import *\n",
    "from fastai.plots import *"
   ]
  },
  {
   "cell_type": "markdown",
   "metadata": {},
   "source": [
    "# Build the model"
   ]
  },
  {
   "cell_type": "code",
   "execution_count": 4,
   "metadata": {
    "collapsed": true
   },
   "outputs": [],
   "source": [
    "PATH= \"data/planet/\"\n",
    "sz=224"
   ]
  },
  {
   "cell_type": "markdown",
   "metadata": {},
   "source": [
    "Since the evaluation metric of the competition is f2, let's add it to our metrics list."
   ]
  },
  {
   "cell_type": "code",
   "execution_count": 5,
   "metadata": {
    "collapsed": true
   },
   "outputs": [],
   "source": [
    "from planet import f2, opt_th\n",
    "\n",
    "metrics = [f2]"
   ]
  },
  {
   "cell_type": "markdown",
   "metadata": {},
   "source": [
    "We'll be using resnet34 to start with. Later, let's experiment with other pretrained nets."
   ]
  },
  {
   "cell_type": "code",
   "execution_count": 6,
   "metadata": {
    "scrolled": true
   },
   "outputs": [],
   "source": [
    "val_idxs = get_cv_idxs(40479, cv_idx=3)\n",
    "\n",
    "arch = resnet34\n",
    "tfms = tfms_from_model(resnet34, sz, aug_tfms=transforms_top_down, max_zoom=1.05)\n",
    "\n",
    "data = ImageClassifierData.from_csv(PATH, folder=\"train-jpg\", csv_fname=f\"{PATH}train_v2.csv\", val_idxs=val_idxs,\n",
    "                                    bs=64, tfms=tfms, suffix=\".jpg\", test_name=\"test-jpg\")"
   ]
  },
  {
   "cell_type": "markdown",
   "metadata": {},
   "source": [
    "Let's find an optimal lr."
   ]
  },
  {
   "cell_type": "code",
   "execution_count": 12,
   "metadata": {},
   "outputs": [
    {
     "data": {
      "application/vnd.jupyter.widget-view+json": {
       "model_id": "4a41bd26b24a4178ad47ae905b8949f0",
       "version_major": 2,
       "version_minor": 0
      },
      "text/plain": [
       "A Jupyter Widget"
      ]
     },
     "metadata": {},
     "output_type": "display_data"
    },
    {
     "name": "stdout",
     "output_type": "stream",
     "text": [
      "[ 0.       0.22339  0.27704  0.85096]                         \n",
      "\n"
     ]
    }
   ],
   "source": [
    "learn = ConvLearner.pretrained(arch, data, precompute=True, metrics=[f2])\n",
    "lrf = learn.lr_find()"
   ]
  },
  {
   "cell_type": "code",
   "execution_count": 13,
   "metadata": {
    "scrolled": true
   },
   "outputs": [
    {
     "data": {
      "image/png": "[encoded data removed]",
      "text/plain": [
       "<matplotlib.figure.Figure at 0x7f36cfa70cf8>"
      ]
     },
     "metadata": {},
     "output_type": "display_data"
    }
   ],
   "source": [
    "learn.sched.plot()"
   ]
  },
  {
   "cell_type": "markdown",
   "metadata": {},
   "source": [
    "Objective is to find the maximum lr where the loss curve is significantly on a descent. That seems to be around 0.5."
   ]
  },
  {
   "cell_type": "code",
   "execution_count": 11,
   "metadata": {},
   "outputs": [
    {
     "data": {
      "image/png": "[encoded data removed]",
      "text/plain": [
       "<matplotlib.figure.Figure at 0x7f6b2c7ddeb8>"
      ]
     },
     "metadata": {},
     "output_type": "display_data"
    }
   ],
   "source": [
    "learn.sched.plot_lr()"
   ]
  },
  {
   "cell_type": "code",
   "execution_count": 54,
   "metadata": {
    "scrolled": true
   },
   "outputs": [
    {
     "data": {
      "application/vnd.jupyter.widget-view+json": {
       "model_id": "d1a3b87b19ec409a99975243d72c0e80",
       "version_major": 2,
       "version_minor": 0
      },
      "text/plain": [
       "A Jupyter Widget"
      ]
     },
     "metadata": {},
     "output_type": "display_data"
    },
    {
     "name": "stdout",
     "output_type": "stream",
     "text": [
      "[ 0.       0.12645  0.11029  0.90524]                         \n",
      "[ 1.       0.11815  0.10515  0.91032]                         \n",
      "[ 2.       0.11473  0.10394  0.91221]                         \n",
      "\n"
     ]
    }
   ],
   "source": [
    "learn = ConvLearner.pretrained(arch, data, precompute=True, metrics=[f2])\n",
    "learn.fit(0.5, 3)"
   ]
  },
  {
   "cell_type": "code",
   "execution_count": 55,
   "metadata": {
    "collapsed": true
   },
   "outputs": [],
   "source": [
    "learn.precompute = False"
   ]
  },
  {
   "cell_type": "code",
   "execution_count": 56,
   "metadata": {},
   "outputs": [
    {
     "data": {
      "application/vnd.jupyter.widget-view+json": {
       "model_id": "d0adddd18f3b4ecb9315b6077ebde3b4",
       "version_major": 2,
       "version_minor": 0
      },
      "text/plain": [
       "A Jupyter Widget"
      ]
     },
     "metadata": {},
     "output_type": "display_data"
    },
    {
     "name": "stdout",
     "output_type": "stream",
     "text": [
      "[ 0.       0.11787  0.10198  0.91414]                        \n",
      "[ 1.       0.11421  0.10159  0.91427]                        \n",
      "[ 2.       0.11398  0.10097  0.91433]                        \n",
      "\n"
     ]
    }
   ],
   "source": [
    "learn.fit(0.5, 3, cycle_len=1)"
   ]
  },
  {
   "cell_type": "code",
   "execution_count": 57,
   "metadata": {
    "collapsed": true
   },
   "outputs": [],
   "source": [
    "learn.save(\"planet_freezed\")"
   ]
  },
  {
   "cell_type": "code",
   "execution_count": 58,
   "metadata": {
    "collapsed": true
   },
   "outputs": [],
   "source": [
    "learn.load(\"planet_freezed\")"
   ]
  },
  {
   "cell_type": "markdown",
   "metadata": {},
   "source": [
    "# Differential learning rates"
   ]
  },
  {
   "cell_type": "code",
   "execution_count": 59,
   "metadata": {
    "collapsed": true
   },
   "outputs": [],
   "source": [
    "learn.unfreeze()"
   ]
  },
  {
   "cell_type": "code",
   "execution_count": 43,
   "metadata": {},
   "outputs": [
    {
     "data": {
      "application/vnd.jupyter.widget-view+json": {
       "model_id": "679ad2a3338a4149ad0a8b0d3e307e94",
       "version_major": 2,
       "version_minor": 0
      },
      "text/plain": [
       "A Jupyter Widget"
      ]
     },
     "metadata": {},
     "output_type": "display_data"
    },
    {
     "name": "stdout",
     "output_type": "stream",
     "text": [
      "[ 0.       0.15926  0.20433  0.86327]                        \n",
      "\n"
     ]
    }
   ],
   "source": [
    "learn.lr_find()"
   ]
  },
  {
   "cell_type": "code",
   "execution_count": 44,
   "metadata": {},
   "outputs": [
    {
     "data": {
      "image/png": "[encoded data removed]",
      "text/plain": [
       "<matplotlib.figure.Figure at 0x7f36ceac2400>"
      ]
     },
     "metadata": {},
     "output_type": "display_data"
    }
   ],
   "source": [
    "learn.sched.plot()"
   ]
  },
  {
   "cell_type": "code",
   "execution_count": 60,
   "metadata": {},
   "outputs": [
    {
     "data": {
      "application/vnd.jupyter.widget-view+json": {
       "model_id": "37f878d486d1493f85853619a7cd6251",
       "version_major": 2,
       "version_minor": 0
      },
      "text/plain": [
       "A Jupyter Widget"
      ]
     },
     "metadata": {},
     "output_type": "display_data"
    },
    {
     "name": "stdout",
     "output_type": "stream",
     "text": [
      "[ 0.       0.10319  0.09108  0.92485]                        \n",
      "[ 1.       0.09681  0.08779  0.92743]                         \n",
      "[ 2.       0.09468  0.08574  0.92969]                         \n",
      "[ 3.       0.09496  0.08677  0.92789]                         \n",
      "[ 4.       0.08844  0.08403  0.93162]                         \n",
      "[ 5.       0.0854   0.08246  0.93114]                         \n",
      "[ 6.       0.08556  0.08248  0.93147]                         \n",
      "\n"
     ]
    }
   ],
   "source": [
    "l = 0.1\n",
    "lr = np.array([l/6, l/3, l])\n",
    "learn.fit(lr, 3, cycle_len=1, cycle_mult=2)"
   ]
  },
  {
   "cell_type": "code",
   "execution_count": 61,
   "metadata": {},
   "outputs": [
    {
     "data": {
      "application/vnd.jupyter.widget-view+json": {
       "model_id": "d572c6c46b494ec7b75c5695ebc563a0",
       "version_major": 2,
       "version_minor": 0
      },
      "text/plain": [
       "A Jupyter Widget"
      ]
     },
     "metadata": {},
     "output_type": "display_data"
    },
    {
     "name": "stdout",
     "output_type": "stream",
     "text": [
      "[ 0.       0.08896  0.08258  0.93185]                         \n",
      "[ 1.       0.08766  0.0827   0.93083]                         \n",
      "[ 2.       0.08444  0.08238  0.93188]                         \n",
      "[ 3.       0.08838  0.08336  0.93063]                         \n",
      "[ 4.       0.0863   0.08274  0.93082]                         \n",
      "[ 5.       0.08118  0.08167  0.9323 ]                         \n",
      "[ 6.       0.08258  0.08148  0.93251]                         \n",
      "\n"
     ]
    }
   ],
   "source": [
    "l = 0.08\n",
    "lr = np.array([l/9, l/3, l])\n",
    "learn.fit(lr, 3, cycle_len=1, cycle_mult=2)"
   ]
  },
  {
   "cell_type": "code",
   "execution_count": 62,
   "metadata": {
    "collapsed": true
   },
   "outputs": [],
   "source": [
    "learn.save(\"planet_unfreezed\")"
   ]
  },
  {
   "cell_type": "code",
   "execution_count": 63,
   "metadata": {
    "collapsed": true
   },
   "outputs": [],
   "source": [
    "learn.load(\"planet_unfreezed\")"
   ]
  },
  {
   "cell_type": "markdown",
   "metadata": {},
   "source": [
    "# Training on all images"
   ]
  },
  {
   "cell_type": "code",
   "execution_count": null,
   "metadata": {
    "collapsed": true
   },
   "outputs": [],
   "source": [
    "val_idxs = get_cv_idxs(40479, val_pct=0.0001) # for all images, adjust this val_pct\n",
    "\n",
    "arch = resnet34\n",
    "tfms = tfms_from_model(resnet34, sz, aug_tfms=transforms_top_down, max_zoom=1.05)\n",
    "\n",
    "data = ImageClassifierData.from_csv(PATH, folder=\"train-jpg\", csv_fname=f\"{PATH}train_v2.csv\", val_idxs=val_idxs,\n",
    "                                    bs=64, tfms=tfms, suffix=\".jpg\", test_name=\"test-jpg\")"
   ]
  },
  {
   "cell_type": "code",
   "execution_count": 7,
   "metadata": {},
   "outputs": [
    {
     "data": {
      "application/vnd.jupyter.widget-view+json": {
       "model_id": "cb1be31343254c6988cc19260958e166",
       "version_major": 2,
       "version_minor": 0
      },
      "text/plain": [
       "A Jupyter Widget"
      ]
     },
     "metadata": {},
     "output_type": "display_data"
    },
    {
     "name": "stdout",
     "output_type": "stream",
     "text": [
      "[ 0.       0.12241  0.15565  0.91931]                         \n",
      "[ 1.       0.1171   0.1673   0.92708]                         \n",
      "[ 2.       0.11375  0.153    0.91747]                         \n",
      "\n"
     ]
    },
    {
     "data": {
      "application/vnd.jupyter.widget-view+json": {
       "model_id": "e3b7e2cca9c44cc891bed94cd2278be5",
       "version_major": 2,
       "version_minor": 0
      },
      "text/plain": [
       "A Jupyter Widget"
      ]
     },
     "metadata": {},
     "output_type": "display_data"
    },
    {
     "name": "stdout",
     "output_type": "stream",
     "text": [
      "[ 0.       0.11675  0.15775  0.91747]                        \n",
      "[ 1.       0.11174  0.15578  0.91747]                        \n",
      "[ 2.       0.11272  0.15888  0.91747]                        \n",
      "\n"
     ]
    }
   ],
   "source": [
    "learn = ConvLearner.pretrained(arch, data, precompute=True, metrics=[f2])\n",
    "learn.fit(0.5, 3)\n",
    "learn.precompute = False\n",
    "learn.fit(0.5, 3, cycle_len=1)"
   ]
  },
  {
   "cell_type": "code",
   "execution_count": 8,
   "metadata": {},
   "outputs": [
    {
     "data": {
      "application/vnd.jupyter.widget-view+json": {
       "model_id": "51fffce7c86b4477bdcb7e08fa127f96",
       "version_major": 2,
       "version_minor": 0
      },
      "text/plain": [
       "A Jupyter Widget"
      ]
     },
     "metadata": {},
     "output_type": "display_data"
    },
    {
     "name": "stdout",
     "output_type": "stream",
     "text": [
      "[ 0.       0.1028   0.16276  0.89272]                         \n",
      "[ 1.       0.09853  0.13704  0.91226]                         \n",
      "[ 2.       0.09126  0.13005  0.89663]                         \n",
      "[ 3.       0.09276  0.13743  0.93309]                         \n",
      "[ 4.       0.08973  0.12717  0.91747]                         \n",
      "[ 5.       0.09008  0.13372  0.86166]                         \n",
      "[ 6.       0.08588  0.12984  0.86201]                         \n",
      "\n"
     ]
    },
    {
     "data": {
      "application/vnd.jupyter.widget-view+json": {
       "model_id": "f4b3cf66e3264e5a81b76024aaa15e51",
       "version_major": 2,
       "version_minor": 0
      },
      "text/plain": [
       "A Jupyter Widget"
      ]
     },
     "metadata": {},
     "output_type": "display_data"
    },
    {
     "name": "stdout",
     "output_type": "stream",
     "text": [
      "[ 0.       0.0863   0.13207  0.91747]                         \n",
      "[ 1.       0.08512  0.11907  0.92972]                         \n",
      "[ 2.       0.08475  0.12868  0.91747]                         \n",
      "[ 3.       0.08581  0.14056  0.87708]                         \n",
      "[ 4.       0.08315  0.12047  0.89271]                         \n",
      "[ 5.       0.0829   0.12579  0.9065 ]                         \n",
      "[ 6.       0.08096  0.12131  0.91747]                         \n",
      "\n"
     ]
    }
   ],
   "source": [
    "learn.unfreeze()\n",
    "\n",
    "l = 0.1\n",
    "lr = np.array([l/6, l/3, l])\n",
    "learn.fit(lr, 3, cycle_len=1, cycle_mult=2)\n",
    "\n",
    "l = 0.08\n",
    "lr = np.array([l/9, l/3, l])\n",
    "learn.fit(lr, 3, cycle_len=1, cycle_mult=2)\n",
    "\n",
    "learn.save(\"planet_unf_all\")"
   ]
  },
  {
   "cell_type": "markdown",
   "metadata": {},
   "source": [
    "# Predict on test set"
   ]
  },
  {
   "cell_type": "code",
   "execution_count": 9,
   "metadata": {
    "collapsed": true
   },
   "outputs": [],
   "source": [
    "import resource\n",
    "rlimit = resource.getrlimit(resource.RLIMIT_NOFILE)\n",
    "resource.setrlimit(resource.RLIMIT_NOFILE, (2048, rlimit[1]))"
   ]
  },
  {
   "cell_type": "code",
   "execution_count": 10,
   "metadata": {},
   "outputs": [
    {
     "name": "stdout",
     "output_type": "stream",
     "text": [
      "                                              \r"
     ]
    }
   ],
   "source": [
    "preds = learn.TTA(is_test=True)"
   ]
  },
  {
   "cell_type": "markdown",
   "metadata": {},
   "source": [
    "This takes around 17 minutes on a p2.xlarge instance. (around 276 s/it)"
   ]
  },
  {
   "cell_type": "code",
   "execution_count": 11,
   "metadata": {},
   "outputs": [
    {
     "data": {
      "text/plain": [
       "61191"
      ]
     },
     "execution_count": 11,
     "metadata": {},
     "output_type": "execute_result"
    }
   ],
   "source": [
    "fnames = [x.split(\"/\")[1].split(\".\")[0] for x in data.test_dl.dataset.fnames]\n",
    "len(fnames)"
   ]
  },
  {
   "cell_type": "code",
   "execution_count": 12,
   "metadata": {
    "collapsed": true
   },
   "outputs": [],
   "source": [
    "classes = np.array(data.classes, dtype=str)\n",
    "res = [\" \".join(classes[np.where(pp > 0.2)]) for pp in preds[0]] "
   ]
  },
  {
   "cell_type": "code",
   "execution_count": 13,
   "metadata": {},
   "outputs": [
    {
     "data": {
      "text/html": [
       "<a href='data/planet/submit2.csv' target='_blank'>data/planet/submit2.csv</a><br>"
      ],
      "text/plain": [
       "/home/ubuntu/fastai/courses/dl1/data/planet/submit2.csv"
      ]
     },
     "execution_count": 13,
     "metadata": {},
     "output_type": "execute_result"
    }
   ],
   "source": [
    "final = pd.DataFrame({'image_name': fnames, 'tags': res})\n",
    "\n",
    "f = \"submit2.csv\"\n",
    "final.to_csv(f\"{PATH}{f}\", index=False)\n",
    "\n",
    "from IPython.display import FileLink\n",
    "FileLink(f\"{PATH}{f}\")"
   ]
  },
  {
   "cell_type": "code",
   "execution_count": null,
   "metadata": {
    "collapsed": true
   },
   "outputs": [],
   "source": []
  }
 ],
 "metadata": {
  "kernelspec": {
   "display_name": "Python 3",
   "language": "python",
   "name": "python3"
  },
  "language_info": {
   "codemirror_mode": {
    "name": "ipython",
    "version": 3
   },
   "file_extension": ".py",
   "mimetype": "text/x-python",
   "name": "python",
   "nbconvert_exporter": "python",
   "pygments_lexer": "ipython3",
   "version": "3.6.3"
  }
 },
 "nbformat": 4,
 "nbformat_minor": 2
}
