{
 "cells": [
  {
   "cell_type": "markdown",
   "metadata": {},
   "source": [
    "# Dog Breeds\n",
    "https://www.kaggle.com/c/dog-breed-identification"
   ]
  },
  {
   "cell_type": "code",
   "execution_count": 1,
   "metadata": {
    "collapsed": true
   },
   "outputs": [],
   "source": [
    "# Put these at the top of every notebook, to get automatic reloading and inline plotting\n",
    "%reload_ext autoreload\n",
    "%autoreload 2\n",
    "%matplotlib inline"
   ]
  },
  {
   "cell_type": "code",
   "execution_count": 2,
   "metadata": {
    "collapsed": true
   },
   "outputs": [],
   "source": [
    "from fastai.imports import *"
   ]
  },
  {
   "cell_type": "code",
   "execution_count": 3,
   "metadata": {
    "collapsed": true
   },
   "outputs": [],
   "source": [
    "from fastai.transforms import *\n",
    "from fastai.conv_learner import *\n",
    "from fastai.model import *\n",
    "from fastai.dataset import *\n",
    "from fastai.sgdr import *\n",
    "from fastai.plots import *"
   ]
  },
  {
   "cell_type": "markdown",
   "metadata": {},
   "source": [
    "# Build the model"
   ]
  },
  {
   "cell_type": "markdown",
   "metadata": {},
   "source": [
    "Set the paths to the home folder of the dataset. Set the batch size to start with."
   ]
  },
  {
   "cell_type": "code",
   "execution_count": 4,
   "metadata": {
    "collapsed": true
   },
   "outputs": [],
   "source": [
    "PATH = \"data/dogbreeds/\"\n",
    "sz = 224"
   ]
  },
  {
   "cell_type": "markdown",
   "metadata": {},
   "source": [
    "Set the validation indices and give it to the learner. Define augmentations and pass it to data loader."
   ]
  },
  {
   "cell_type": "code",
   "execution_count": 20,
   "metadata": {
    "collapsed": true,
    "scrolled": true
   },
   "outputs": [],
   "source": [
    "val_idxs = get_cv_idxs(10222, cv_idx=3)\n",
    "\n",
    "arch = resnet152\n",
    "tfms = tfms_from_model(resnet34, sz, aug_tfms=transforms_side_on, max_zoom=1.1)\n",
    "\n",
    "data = ImageClassifierData.from_csv(PATH, folder=\"train\", csv_fname=f\"{PATH}labels.csv\", val_idxs=val_idxs,\n",
    "                                    bs=64, tfms=tfms, suffix=\".jpg\", test_name=\"test\")\n",
    "# learn = ConvLearner.pretrained(arch, data, precompute=False)\n",
    "# learn.fit(0.01, 3)"
   ]
  },
  {
   "cell_type": "markdown",
   "metadata": {},
   "source": [
    "The above model is a quick model build using resnet152 (where we are only adjusting weights of final layers). But, we can do much better.\n",
    "\n",
    "Let's tweak the weights of the inner layers a bit more and see what happens. Before that, we have to figure out how much to tweak. So, let's find the learning rate by taking a fresh model."
   ]
  },
  {
   "cell_type": "code",
   "execution_count": 21,
   "metadata": {},
   "outputs": [
    {
     "name": "stderr",
     "output_type": "stream",
     "text": [
      "Downloading: \"https://download.pytorch.org/models/resnet152-b121ed2d.pth\" to /home/ubuntu/.torch/models/resnet152-b121ed2d.pth\n",
      "100%|██████████| 241530880/241530880 [00:03<00:00, 75225401.40it/s]\n"
     ]
    },
    {
     "name": "stdout",
     "output_type": "stream",
     "text": [
      "100%|██████████| 128/128 [00:30<00:00,  4.14it/s]\n",
      "100%|██████████| 32/32 [00:08<00:00,  3.77it/s]\n",
      "100%|██████████| 162/162 [00:38<00:00,  4.22it/s]\n"
     ]
    },
    {
     "data": {
      "application/vnd.jupyter.widget-view+json": {
       "model_id": "b277722d64f84571a77720436b33f743",
       "version_major": 2,
       "version_minor": 0
      },
      "text/plain": [
       "A Jupyter Widget"
      ]
     },
     "metadata": {},
     "output_type": "display_data"
    },
    {
     "name": "stdout",
     "output_type": "stream",
     "text": [
      " 84%|████████▎ | 107/128 [00:01<00:00, 104.81it/s, loss=16.3]\n",
      "                                                             \r"
     ]
    }
   ],
   "source": [
    "learn = ConvLearner.pretrained(arch, data, precompute=True)\n",
    "lrf = learn.lr_find()"
   ]
  },
  {
   "cell_type": "code",
   "execution_count": 22,
   "metadata": {},
   "outputs": [
    {
     "data": {
      "image/png": "[encoded data removed]",
      "text/plain": [
       "<matplotlib.figure.Figure at 0x7f770b74a4e0>"
      ]
     },
     "metadata": {},
     "output_type": "display_data"
    }
   ],
   "source": [
    "learn.sched.plot()"
   ]
  },
  {
   "cell_type": "code",
   "execution_count": 23,
   "metadata": {
    "scrolled": true
   },
   "outputs": [
    {
     "data": {
      "image/png": "[encoded data removed]",
      "text/plain": [
       "<matplotlib.figure.Figure at 0x7f77098c7e48>"
      ]
     },
     "metadata": {},
     "output_type": "display_data"
    }
   ],
   "source": [
    "learn.sched.plot_lr()"
   ]
  },
  {
   "cell_type": "code",
   "execution_count": 24,
   "metadata": {},
   "outputs": [
    {
     "data": {
      "application/vnd.jupyter.widget-view+json": {
       "model_id": "482a02d7e91f414d8787ec00e35dd41a",
       "version_major": 2,
       "version_minor": 0
      },
      "text/plain": [
       "A Jupyter Widget"
      ]
     },
     "metadata": {},
     "output_type": "display_data"
    },
    {
     "name": "stdout",
     "output_type": "stream",
     "text": [
      "[ 0.       1.10431  0.51286  0.87259]                        \n",
      "[ 1.       0.54196  0.42037  0.88197]                         \n",
      "[ 2.       0.39298  0.38981  0.8834 ]                         \n",
      "\n"
     ]
    }
   ],
   "source": [
    "tfms = tfms_from_model(resnet152, sz, aug_tfms=transforms_side_on, max_zoom=1.1)\n",
    "learn = ConvLearner.pretrained(arch, data, precompute=True)\n",
    "learn.fit(0.01, 3)"
   ]
  },
  {
   "cell_type": "code",
   "execution_count": 25,
   "metadata": {
    "collapsed": true
   },
   "outputs": [],
   "source": [
    "learn.precompute = False"
   ]
  },
  {
   "cell_type": "code",
   "execution_count": 26,
   "metadata": {},
   "outputs": [
    {
     "data": {
      "application/vnd.jupyter.widget-view+json": {
       "model_id": "4eb9c410c5f5499a8f2436ca96b66a9f",
       "version_major": 2,
       "version_minor": 0
      },
      "text/plain": [
       "A Jupyter Widget"
      ]
     },
     "metadata": {},
     "output_type": "display_data"
    },
    {
     "name": "stdout",
     "output_type": "stream",
     "text": [
      "[ 0.       0.40033  0.37029  0.88242]                        \n",
      "[ 1.       0.36614  0.36419  0.87998]                        \n",
      "[ 2.       0.36388  0.35971  0.8819 ]                        \n",
      "\n"
     ]
    }
   ],
   "source": [
    "learn.fit(0.01, 3, cycle_len=1)"
   ]
  },
  {
   "cell_type": "markdown",
   "metadata": {},
   "source": [
    "Let's plot the learning rate. As we have given `cycle_len=1`, the lr should reset after every iteration."
   ]
  },
  {
   "cell_type": "code",
   "execution_count": 27,
   "metadata": {},
   "outputs": [
    {
     "data": {
      "image/png": "[encoded data removed]",
      "text/plain": [
       "<matplotlib.figure.Figure at 0x7f7709840a58>"
      ]
     },
     "metadata": {},
     "output_type": "display_data"
    }
   ],
   "source": [
    "learn.sched.plot_lr()"
   ]
  },
  {
   "cell_type": "code",
   "execution_count": 28,
   "metadata": {
    "collapsed": true
   },
   "outputs": [],
   "source": [
    "learn.save(\"dogbreeds_1\")"
   ]
  },
  {
   "cell_type": "code",
   "execution_count": 29,
   "metadata": {
    "collapsed": true
   },
   "outputs": [],
   "source": [
    "learn.load(\"dogbreeds_1\")"
   ]
  },
  {
   "cell_type": "markdown",
   "metadata": {},
   "source": [
    "# Differential learning rates"
   ]
  },
  {
   "cell_type": "code",
   "execution_count": 30,
   "metadata": {
    "collapsed": true
   },
   "outputs": [],
   "source": [
    "learn.unfreeze()"
   ]
  },
  {
   "cell_type": "markdown",
   "metadata": {},
   "source": [
    "As we have unfreezed all the layers, when we train the network, the weights of all the layers are updated. While we'd like to change the weights of later layers by a fair margin, we want to ensure we don't fiddle too much with the weights of the earlier layers. So, we give different learning rates for each layer.\n",
    "\n",
    "Here, we divide the layers into three logical groups - early conv layers, mid conv layers and end fc layers. We give 3 different lr's to each of these."
   ]
  },
  {
   "cell_type": "code",
   "execution_count": 31,
   "metadata": {
    "collapsed": true
   },
   "outputs": [],
   "source": [
    "lr = np.array([1e-4, 1e-3, 1e-2])"
   ]
  },
  {
   "cell_type": "code",
   "execution_count": 32,
   "metadata": {},
   "outputs": [
    {
     "data": {
      "application/vnd.jupyter.widget-view+json": {
       "model_id": "7174a79cd38b4d39a484e8fb84fc76dc",
       "version_major": 2,
       "version_minor": 0
      },
      "text/plain": [
       "A Jupyter Widget"
      ]
     },
     "metadata": {},
     "output_type": "display_data"
    },
    {
     "name": "stdout",
     "output_type": "stream",
     "text": [
      "[ 0.       0.43924  0.40395  0.87213]                        \n",
      "[ 1.       0.37665  0.39702  0.87647]                        \n",
      "[ 2.       0.27489  0.39003  0.87757]                        \n",
      "[ 3.       0.29676  0.4279   0.85944]                        \n",
      "[ 4.       0.24113  0.40376  0.88047]                        \n",
      "[ 5.       0.18409  0.39994  0.88636]                        \n",
      "[ 6.       0.16041  0.39817  0.88441]                        \n",
      "\n"
     ]
    }
   ],
   "source": [
    "learn.fit(lr, 3, cycle_len=1, cycle_mult=2)"
   ]
  },
  {
   "cell_type": "code",
   "execution_count": 33,
   "metadata": {},
   "outputs": [
    {
     "data": {
      "application/vnd.jupyter.widget-view+json": {
       "model_id": "cd63c6c21e4142929c6c699e1de0d78f",
       "version_major": 2,
       "version_minor": 0
      },
      "text/plain": [
       "A Jupyter Widget"
      ]
     },
     "metadata": {},
     "output_type": "display_data"
    },
    {
     "name": "stdout",
     "output_type": "stream",
     "text": [
      " 60%|██████    | 77/128 [00:59<00:39,  1.29it/s, loss=0.44] "
     ]
    },
    {
     "data": {
      "image/png": "[encoded data removed]",
      "text/plain": [
       "<matplotlib.figure.Figure at 0x7f770bb49c88>"
      ]
     },
     "metadata": {},
     "output_type": "display_data"
    }
   ],
   "source": [
    "lrf=learn.lr_find()\n",
    "learn.sched.plot()"
   ]
  },
  {
   "cell_type": "code",
   "execution_count": 34,
   "metadata": {},
   "outputs": [
    {
     "data": {
      "application/vnd.jupyter.widget-view+json": {
       "model_id": "89daf0129b494f4daa76f36681800e77",
       "version_major": 2,
       "version_minor": 0
      },
      "text/plain": [
       "A Jupyter Widget"
      ]
     },
     "metadata": {},
     "output_type": "display_data"
    },
    {
     "name": "stdout",
     "output_type": "stream",
     "text": [
      "                                                           \n",
      "                                                           \n",
      "                                                           \n",
      "                                                           \n",
      "                                                           \n",
      "                                                           \n",
      "                                                           \n",
      "                                                           \n",
      "\n",
      "                                                           \n",
      "                                                           \n",
      "                                                           \n",
      "                                                           \n",
      "                                                           \n",
      "\n",
      "                                                           \n",
      "                                                           \n",
      "\n",
      "  0%|          | 0/128 [00:04<?, ?it/s, loss=0.13]\u001b[A\n",
      "  1%|          | 1/128 [00:04<08:59,  4.24s/it, loss=0.13]\u001b[A\n",
      "  1%|          | 1/128 [00:05<10:35,  5.00s/it, loss=0.217]\u001b[A\n",
      "  2%|▏         | 2/128 [00:05<05:15,  2.51s/it, loss=0.217]\u001b[A\n",
      "  2%|▏         | 2/128 [00:05<06:01,  2.87s/it, loss=0.172]\u001b[A\n",
      "  2%|▏         | 3/128 [00:05<03:59,  1.91s/it, loss=0.172]\u001b[A\n",
      "  2%|▏         | 3/128 [00:06<04:29,  2.16s/it, loss=0.178]\u001b[A\n",
      "  3%|▎         | 4/128 [00:06<03:20,  1.62s/it, loss=0.178]\u001b[A\n",
      "  3%|▎         | 4/128 [00:07<03:43,  1.80s/it, loss=0.168]\u001b[A\n",
      "  4%|▍         | 5/128 [00:07<02:57,  1.44s/it, loss=0.168]\u001b[A\n",
      "  4%|▍         | 5/128 [00:07<03:15,  1.59s/it, loss=0.159]\u001b[A\n",
      "  5%|▍         | 6/128 [00:07<02:41,  1.32s/it, loss=0.159]\u001b[A\n",
      "  5%|▍         | 6/128 [00:08<02:56,  1.44s/it, loss=0.173]\u001b[A\n",
      "  5%|▌         | 7/128 [00:08<02:29,  1.24s/it, loss=0.173]\u001b[A\n",
      "\n",
      "  5%|▌         | 7/128 [00:09<02:42,  1.34s/it, loss=0.163]\u001b[A\n",
      "  6%|▋         | 8/128 [00:09<02:20,  1.17s/it, loss=0.163]\u001b[A"
     ]
    },
    {
     "name": "stderr",
     "output_type": "stream",
     "text": [
      "Exception in thread Thread-56:\n",
      "Traceback (most recent call last):\n",
      "  File \"/home/ubuntu/src/anaconda3/envs/fastai/lib/python3.6/threading.py\", line 916, in _bootstrap_inner\n",
      "    self.run()\n",
      "  File \"/home/ubuntu/src/anaconda3/envs/fastai/lib/python3.6/site-packages/tqdm/_tqdm.py\", line 144, in run\n",
      "    for instance in self.tqdm_cls._instances:\n",
      "  File \"/home/ubuntu/src/anaconda3/envs/fastai/lib/python3.6/_weakrefset.py\", line 60, in __iter__\n",
      "    for itemref in self.data:\n",
      "RuntimeError: Set changed size during iteration\n",
      "\n"
     ]
    },
    {
     "name": "stdout",
     "output_type": "stream",
     "text": [
      "                                                           \r"
     ]
    },
    {
     "name": "stderr",
     "output_type": "stream",
     "text": [
      "Exception in thread Thread-57:\n",
      "Traceback (most recent call last):\n",
      "  File \"/home/ubuntu/src/anaconda3/envs/fastai/lib/python3.6/threading.py\", line 916, in _bootstrap_inner\n",
      "    self.run()\n",
      "  File \"/home/ubuntu/src/anaconda3/envs/fastai/lib/python3.6/site-packages/tqdm/_tqdm.py\", line 144, in run\n",
      "    for instance in self.tqdm_cls._instances:\n",
      "  File \"/home/ubuntu/src/anaconda3/envs/fastai/lib/python3.6/_weakrefset.py\", line 60, in __iter__\n",
      "    for itemref in self.data:\n",
      "RuntimeError: Set changed size during iteration\n",
      "\n"
     ]
    },
    {
     "name": "stdout",
     "output_type": "stream",
     "text": [
      "[ 0.       0.14894  0.39562  0.88779]                        \n",
      "[ 1.       0.14309  0.39547  0.88636]                        \n",
      "[ 2.       0.14925  0.39614  0.88392]                        \n",
      "[ 3.       0.14443  0.3971   0.88441]                        \n",
      "[ 4.       0.15483  0.39866  0.88493]                        \n",
      "[ 5.       0.15266  0.39744  0.88688]                        \n",
      "[ 6.       0.15361  0.39392  0.88538]                        \n",
      "\n"
     ]
    }
   ],
   "source": [
    "lr = np.array([1e-10, 1e-7, 1e-5])\n",
    "learn.fit(lr, 3, cycle_len=1, cycle_mult=2)"
   ]
  },
  {
   "cell_type": "code",
   "execution_count": null,
   "metadata": {
    "collapsed": true
   },
   "outputs": [],
   "source": []
  },
  {
   "cell_type": "markdown",
   "metadata": {},
   "source": [
    "# Predict on test set"
   ]
  },
  {
   "cell_type": "code",
   "execution_count": null,
   "metadata": {
    "collapsed": true
   },
   "outputs": [],
   "source": [
    "#preds = np.exp(learn.predict(is_test=True))"
   ]
  },
  {
   "cell_type": "code",
   "execution_count": null,
   "metadata": {
    "collapsed": true
   },
   "outputs": [],
   "source": [
    "#fnames = [x.split(\"/\")[1].split(\".\")[0] for x in data.test_dl.dataset.fnames]"
   ]
  },
  {
   "cell_type": "code",
   "execution_count": null,
   "metadata": {
    "collapsed": true
   },
   "outputs": [],
   "source": [
    "#final = pd.read_csv(f\"{PATH}/sample_submission.csv\")\n",
    "#final.loc[:,1:] = preds"
   ]
  },
  {
   "cell_type": "code",
   "execution_count": null,
   "metadata": {
    "collapsed": true
   },
   "outputs": [],
   "source": [
    "#f = \"submit1.csv\"\n",
    "#final.to_csv(f\"{PATH}{f}\", compression=\"gzip\", index=False)\n",
    "\n",
    "#from IPython.display import FileLink\n",
    "#FileLink(f\"{PATH}{f}\")"
   ]
  },
  {
   "cell_type": "code",
   "execution_count": null,
   "metadata": {
    "collapsed": true
   },
   "outputs": [],
   "source": []
  }
 ],
 "metadata": {
  "kernelspec": {
   "display_name": "Python 3",
   "language": "python",
   "name": "python3"
  },
  "language_info": {
   "codemirror_mode": {
    "name": "ipython",
    "version": 3
   },
   "file_extension": ".py",
   "mimetype": "text/x-python",
   "name": "python",
   "nbconvert_exporter": "python",
   "pygments_lexer": "ipython3",
   "version": "3.6.3"
  }
 },
 "nbformat": 4,
 "nbformat_minor": 2
}
