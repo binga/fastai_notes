{
 "cells": [
  {
   "cell_type": "markdown",
   "metadata": {},
   "source": [
    "# Dog Breeds\n",
    "https://www.kaggle.com/c/dog-breed-identification"
   ]
  },
  {
   "cell_type": "code",
   "execution_count": 1,
   "metadata": {
    "collapsed": true
   },
   "outputs": [],
   "source": [
    "# Put these at the top of every notebook, to get automatic reloading and inline plotting\n",
    "%reload_ext autoreload\n",
    "%autoreload 2\n",
    "%matplotlib inline"
   ]
  },
  {
   "cell_type": "code",
   "execution_count": 2,
   "metadata": {
    "collapsed": true
   },
   "outputs": [],
   "source": [
    "from fastai.imports import *"
   ]
  },
  {
   "cell_type": "code",
   "execution_count": 3,
   "metadata": {
    "collapsed": true
   },
   "outputs": [],
   "source": [
    "from fastai.transforms import *\n",
    "from fastai.conv_learner import *\n",
    "from fastai.model import *\n",
    "from fastai.dataset import *\n",
    "from fastai.sgdr import *\n",
    "from fastai.plots import *"
   ]
  },
  {
   "cell_type": "markdown",
   "metadata": {},
   "source": [
    "# Build the model"
   ]
  },
  {
   "cell_type": "markdown",
   "metadata": {},
   "source": [
    "Set the paths to the home folder of the dataset. Set the batch size to start with."
   ]
  },
  {
   "cell_type": "code",
   "execution_count": 4,
   "metadata": {
    "collapsed": true
   },
   "outputs": [],
   "source": [
    "PATH = \"data/dogbreeds/\"\n",
    "sz = 224"
   ]
  },
  {
   "cell_type": "markdown",
   "metadata": {},
   "source": [
    "Set the validation indices and give it to the learner. Define augmentations and pass it to data loader."
   ]
  },
  {
   "cell_type": "code",
   "execution_count": 5,
   "metadata": {
    "collapsed": true,
    "scrolled": true
   },
   "outputs": [],
   "source": [
    "val_idxs = get_cv_idxs(10222, cv_idx=3)\n",
    "\n",
    "arch = resnet50\n",
    "tfms = tfms_from_model(resnet34, sz, aug_tfms=transforms_side_on, max_zoom=1.1)\n",
    "\n",
    "data = ImageClassifierData.from_csv(PATH, folder=\"train\", csv_fname=f\"{PATH}labels.csv\", val_idxs=val_idxs,\n",
    "                                    bs=64, tfms=tfms, suffix=\".jpg\", test_name=\"test\")\n",
    "# learn = ConvLearner.pretrained(arch, data, precompute=False)\n",
    "# learn.fit(0.01, 3)"
   ]
  },
  {
   "cell_type": "markdown",
   "metadata": {},
   "source": [
    "The above model is a quick model build using resnet50 (where we are only adjusting weights of final layers). But, we can do much better.\n",
    "\n",
    "Let's tweak the weights of the inner layers a bit more and see what happens. Before that, we have to figure out how much to tweak. So, let's find the learning rate by taking a fresh model."
   ]
  },
  {
   "cell_type": "code",
   "execution_count": 6,
   "metadata": {},
   "outputs": [
    {
     "name": "stderr",
     "output_type": "stream",
     "text": [
      "Downloading: \"https://download.pytorch.org/models/resnet50-19c8e357.pth\" to /home/ubuntu/.torch/models/resnet50-19c8e357.pth\n",
      "100%|██████████| 102502400/102502400 [00:00<00:00, 103958808.40it/s]\n"
     ]
    },
    {
     "name": "stdout",
     "output_type": "stream",
     "text": [
      "100%|██████████| 128/128 [02:36<00:00,  1.22s/it] \n",
      "100%|██████████| 32/32 [00:04<00:00,  6.82it/s]\n",
      "100%|██████████| 162/162 [00:28<00:00,  5.75it/s]\n"
     ]
    },
    {
     "data": {
      "application/vnd.jupyter.widget-view+json": {
       "model_id": "8d17cbf0e8aa4ad8b1d2977e7da399a5",
       "version_major": 2,
       "version_minor": 0
      },
      "text/plain": [
       "A Jupyter Widget"
      ]
     },
     "metadata": {},
     "output_type": "display_data"
    },
    {
     "name": "stdout",
     "output_type": "stream",
     "text": [
      " 92%|█████████▏| 118/128 [00:01<00:00, 90.84it/s, loss=12.2]\n",
      "                                                            \r"
     ]
    }
   ],
   "source": [
    "learn = ConvLearner.pretrained(arch, data, precompute=True)\n",
    "lrf = learn.lr_find()"
   ]
  },
  {
   "cell_type": "code",
   "execution_count": 7,
   "metadata": {},
   "outputs": [
    {
     "data": {
      "image/png": "[encoded data removed]",
      "text/plain": [
       "<matplotlib.figure.Figure at 0x7f770bb497b8>"
      ]
     },
     "metadata": {},
     "output_type": "display_data"
    }
   ],
   "source": [
    "learn.sched.plot()"
   ]
  },
  {
   "cell_type": "code",
   "execution_count": 8,
   "metadata": {
    "scrolled": true
   },
   "outputs": [
    {
     "data": {
      "image/png": "[encoded data removed]",
      "text/plain": [
       "<matplotlib.figure.Figure at 0x7f770a2c5e48>"
      ]
     },
     "metadata": {},
     "output_type": "display_data"
    }
   ],
   "source": [
    "learn.sched.plot_lr()"
   ]
  },
  {
   "cell_type": "code",
   "execution_count": 9,
   "metadata": {},
   "outputs": [
    {
     "data": {
      "application/vnd.jupyter.widget-view+json": {
       "model_id": "6e98204fa9ec42e58218e0d0d157f69d",
       "version_major": 2,
       "version_minor": 0
      },
      "text/plain": [
       "A Jupyter Widget"
      ]
     },
     "metadata": {},
     "output_type": "display_data"
    },
    {
     "name": "stdout",
     "output_type": "stream",
     "text": [
      "[ 0.       1.2994   0.64871  0.84424]                       \n",
      "[ 1.       0.65604  0.51817  0.85404]                        \n",
      "[ 2.       0.47449  0.48271  0.86283]                        \n",
      "\n"
     ]
    }
   ],
   "source": [
    "tfms = tfms_from_model(resnet50, sz, aug_tfms=transforms_side_on, max_zoom=1.1)\n",
    "learn = ConvLearner.pretrained(arch, data, precompute=True)\n",
    "learn.fit(0.01, 3)"
   ]
  },
  {
   "cell_type": "code",
   "execution_count": 10,
   "metadata": {
    "collapsed": true
   },
   "outputs": [],
   "source": [
    "learn.precompute = False"
   ]
  },
  {
   "cell_type": "code",
   "execution_count": 11,
   "metadata": {},
   "outputs": [
    {
     "data": {
      "application/vnd.jupyter.widget-view+json": {
       "model_id": "7379f4eae461495baec6f548db198923",
       "version_major": 2,
       "version_minor": 0
      },
      "text/plain": [
       "A Jupyter Widget"
      ]
     },
     "metadata": {},
     "output_type": "display_data"
    },
    {
     "name": "stdout",
     "output_type": "stream",
     "text": [
      "[ 0.       0.48397  0.47409  0.85547]                        \n",
      "[ 1.       0.46588  0.46669  0.85736]                        \n",
      "[ 2.       0.43507  0.46282  0.85739]                        \n",
      "\n"
     ]
    }
   ],
   "source": [
    "learn.fit(0.01, 3, cycle_len=1)"
   ]
  },
  {
   "cell_type": "markdown",
   "metadata": {},
   "source": [
    "Let's plot the learning rate. As we have given `cycle_len=1`, the lr should reset after every iteration."
   ]
  },
  {
   "cell_type": "code",
   "execution_count": 12,
   "metadata": {},
   "outputs": [
    {
     "data": {
      "image/png": "[encoded data removed]",
      "text/plain": [
       "<matplotlib.figure.Figure at 0x7f7709976518>"
      ]
     },
     "metadata": {},
     "output_type": "display_data"
    }
   ],
   "source": [
    "learn.sched.plot_lr()"
   ]
  },
  {
   "cell_type": "code",
   "execution_count": 13,
   "metadata": {
    "collapsed": true
   },
   "outputs": [],
   "source": [
    "learn.save(\"dogbreeds_1\")"
   ]
  },
  {
   "cell_type": "code",
   "execution_count": 14,
   "metadata": {
    "collapsed": true
   },
   "outputs": [],
   "source": [
    "learn.load(\"dogbreeds_1\")"
   ]
  },
  {
   "cell_type": "markdown",
   "metadata": {},
   "source": [
    "# Differential learning rates"
   ]
  },
  {
   "cell_type": "code",
   "execution_count": 15,
   "metadata": {
    "collapsed": true
   },
   "outputs": [],
   "source": [
    "learn.unfreeze()"
   ]
  },
  {
   "cell_type": "markdown",
   "metadata": {},
   "source": [
    "As we have unfreezed all the layers, when we train the network, the weights of all the layers are updated. While we'd like to change the weights of later layers by a fair margin, we want to ensure we don't fiddle too much with the weights of the earlier layers. So, we give different learning rates for each layer.\n",
    "\n",
    "Here, we divide the layers into three logical groups - early conv layers, mid conv layers and end fc layers. We give 3 different lr's to each of these."
   ]
  },
  {
   "cell_type": "code",
   "execution_count": 16,
   "metadata": {
    "collapsed": true
   },
   "outputs": [],
   "source": [
    "lr = np.array([1e-4, 1e-3, 1e-2])"
   ]
  },
  {
   "cell_type": "code",
   "execution_count": 17,
   "metadata": {},
   "outputs": [
    {
     "data": {
      "application/vnd.jupyter.widget-view+json": {
       "model_id": "8bd96c76c36a4e3fb3739e3f077a37b8",
       "version_major": 2,
       "version_minor": 0
      },
      "text/plain": [
       "A Jupyter Widget"
      ]
     },
     "metadata": {},
     "output_type": "display_data"
    },
    {
     "name": "stdout",
     "output_type": "stream",
     "text": [
      "[ 0.       0.54934  0.51198  0.84603]                        \n",
      "[ 1.       0.4826   0.49685  0.84906]                        \n",
      "[ 2.       0.35972  0.48965  0.84958]                        \n",
      "[ 3.       0.3704   0.50816  0.84274]                        \n",
      "[ 4.       0.29099  0.49811  0.85006]                        \n",
      "[ 5.       0.24404  0.48143  0.85693]                        \n",
      "[ 6.       0.21241  0.48069  0.85641]                        \n",
      "\n"
     ]
    }
   ],
   "source": [
    "learn.fit(lr, 3, cycle_len=1, cycle_mult=2)"
   ]
  },
  {
   "cell_type": "code",
   "execution_count": 18,
   "metadata": {},
   "outputs": [
    {
     "data": {
      "application/vnd.jupyter.widget-view+json": {
       "model_id": "3bf076e075f14d75a29e581587ef0fa3",
       "version_major": 2,
       "version_minor": 0
      },
      "text/plain": [
       "A Jupyter Widget"
      ]
     },
     "metadata": {},
     "output_type": "display_data"
    },
    {
     "name": "stdout",
     "output_type": "stream",
     "text": [
      " 59%|█████▉    | 76/128 [00:45<00:31,  1.66it/s, loss=0.476]"
     ]
    },
    {
     "data": {
      "image/png": "[encoded data removed]",
      "text/plain": [
       "<matplotlib.figure.Figure at 0x7f770a284eb8>"
      ]
     },
     "metadata": {},
     "output_type": "display_data"
    }
   ],
   "source": [
    "lrf=learn.lr_find()\n",
    "learn.sched.plot()"
   ]
  },
  {
   "cell_type": "code",
   "execution_count": 19,
   "metadata": {},
   "outputs": [
    {
     "data": {
      "application/vnd.jupyter.widget-view+json": {
       "model_id": "557a1d6c1c974e3481ee3442710796d2",
       "version_major": 2,
       "version_minor": 0
      },
      "text/plain": [
       "A Jupyter Widget"
      ]
     },
     "metadata": {},
     "output_type": "display_data"
    },
    {
     "name": "stdout",
     "output_type": "stream",
     "text": [
      "                                                            \n",
      "                                                            \n",
      "                                                            \n",
      "                                                            \n",
      "                                                            \n",
      "                                                            \n",
      "                                                            \n",
      "                                                            \n",
      "\n",
      "                                                            \n",
      "                                                            \n",
      "\n",
      "                                                            \n",
      "                                                            \n",
      "                                                            \n",
      "                                                            \n",
      "                                                            \n",
      "\n",
      "  0%|          | 0/128 [00:03<?, ?it/s, loss=0.192]\u001b[A\n",
      "  1%|          | 1/128 [00:03<07:56,  3.76s/it, loss=0.192]\u001b[A\n",
      "  1%|          | 1/128 [00:04<08:36,  4.07s/it, loss=0.155]\u001b[A\n",
      "  2%|▏         | 2/128 [00:04<04:16,  2.04s/it, loss=0.155]\u001b[A\n",
      "  2%|▏         | 2/128 [00:04<04:35,  2.18s/it, loss=0.157]\u001b[A\n",
      "  2%|▏         | 3/128 [00:04<03:02,  1.46s/it, loss=0.157]\u001b[A\n",
      "  2%|▏         | 3/128 [00:04<03:15,  1.56s/it, loss=0.136]\u001b[A\n",
      "  3%|▎         | 4/128 [00:04<02:25,  1.17s/it, loss=0.136]\u001b[A\n",
      "  3%|▎         | 4/128 [00:05<02:35,  1.26s/it, loss=0.139]\u001b[A\n",
      "  4%|▍         | 5/128 [00:05<02:03,  1.01s/it, loss=0.139]\u001b[A\n",
      "  4%|▍         | 5/128 [00:05<02:12,  1.07s/it, loss=0.147]\u001b[A\n",
      "  5%|▍         | 6/128 [00:05<01:49,  1.12it/s, loss=0.147]\u001b[A\n",
      "  5%|▍         | 6/128 [00:05<01:55,  1.06it/s, loss=0.162]\u001b[A\n",
      "  5%|▌         | 7/128 [00:05<01:38,  1.23it/s, loss=0.162]\u001b[A\n",
      "  5%|▌         | 7/128 [00:05<01:43,  1.17it/s, loss=0.162]\u001b[A\n",
      "  6%|▋         | 8/128 [00:05<01:29,  1.33it/s, loss=0.162]\u001b[A\n",
      "  6%|▋         | 8/128 [00:06<01:34,  1.27it/s, loss=0.164]\u001b[A\n",
      "  7%|▋         | 9/128 [00:06<01:23,  1.43it/s, loss=0.164]\u001b[A\n",
      "  7%|▋         | 9/128 [00:06<01:27,  1.36it/s, loss=0.183]\u001b[A\n",
      "  8%|▊         | 10/128 [00:06<01:18,  1.51it/s, loss=0.183]\u001b[A\n",
      "  8%|▊         | 10/128 [00:06<01:22,  1.44it/s, loss=0.188]\u001b[A\n",
      "  9%|▊         | 11/128 [00:06<01:13,  1.58it/s, loss=0.188]\u001b[A\n",
      "  9%|▊         | 11/128 [00:07<01:17,  1.51it/s, loss=0.184]\u001b[A\n",
      "  9%|▉         | 12/128 [00:07<01:10,  1.65it/s, loss=0.184]\u001b[A\n",
      "  9%|▉         | 12/128 [00:07<01:13,  1.58it/s, loss=0.191]\u001b[A\n",
      " 10%|█         | 13/128 [00:07<01:07,  1.72it/s, loss=0.191]\u001b[A\n",
      " 10%|█         | 13/128 [00:07<01:09,  1.65it/s, loss=0.189]\u001b[A\n",
      " 11%|█         | 14/128 [00:07<01:04,  1.78it/s, loss=0.189]\u001b[A\n",
      " 11%|█         | 14/128 [00:08<01:06,  1.71it/s, loss=0.186]\u001b[A\n",
      " 12%|█▏        | 15/128 [00:08<01:01,  1.83it/s, loss=0.186]\u001b[A\n",
      " 12%|█▏        | 15/128 [00:08<01:04,  1.76it/s, loss=0.192]\u001b[A\n",
      " 12%|█▎        | 16/128 [00:08<00:59,  1.88it/s, loss=0.192]\u001b[A\n",
      " 12%|█▎        | 16/128 [00:08<01:01,  1.82it/s, loss=0.2]  \u001b[A\n",
      " 13%|█▎        | 17/128 [00:08<00:57,  1.93it/s, loss=0.2]\u001b[A\n"
     ]
    },
    {
     "name": "stderr",
     "output_type": "stream",
     "text": [
      "Exception in thread Thread-26:\n",
      "Traceback (most recent call last):\n",
      "  File \"/home/ubuntu/src/anaconda3/envs/fastai/lib/python3.6/threading.py\", line 916, in _bootstrap_inner\n",
      "    self.run()\n",
      "  File \"/home/ubuntu/src/anaconda3/envs/fastai/lib/python3.6/site-packages/tqdm/_tqdm.py\", line 144, in run\n",
      "    for instance in self.tqdm_cls._instances:\n",
      "  File \"/home/ubuntu/src/anaconda3/envs/fastai/lib/python3.6/_weakrefset.py\", line 60, in __iter__\n",
      "    for itemref in self.data:\n",
      "RuntimeError: Set changed size during iteration\n",
      "\n"
     ]
    },
    {
     "name": "stdout",
     "output_type": "stream",
     "text": [
      "\n",
      " 13%|█▎        | 17/128 [00:09<00:59,  1.87it/s, loss=0.198]\u001b[A\n",
      " 14%|█▍        | 18/128 [00:09<00:55,  1.98it/s, loss=0.198]\u001b[A\n",
      " 14%|█▍        | 18/128 [00:09<00:57,  1.91it/s, loss=0.198]\u001b[A\n",
      " 16%|█▌        | 20/128 [00:09<00:52,  2.06it/s, loss=0.202]\u001b[A"
     ]
    },
    {
     "name": "stderr",
     "output_type": "stream",
     "text": [
      "Exception in thread Thread-27:\n",
      "Traceback (most recent call last):\n",
      "  File \"/home/ubuntu/src/anaconda3/envs/fastai/lib/python3.6/threading.py\", line 916, in _bootstrap_inner\n",
      "    self.run()\n",
      "  File \"/home/ubuntu/src/anaconda3/envs/fastai/lib/python3.6/site-packages/tqdm/_tqdm.py\", line 144, in run\n",
      "    for instance in self.tqdm_cls._instances:\n",
      "  File \"/home/ubuntu/src/anaconda3/envs/fastai/lib/python3.6/_weakrefset.py\", line 60, in __iter__\n",
      "    for itemref in self.data:\n",
      "RuntimeError: Set changed size during iteration\n",
      "\n"
     ]
    },
    {
     "name": "stdout",
     "output_type": "stream",
     "text": [
      "[ 0.       0.1942   0.48065  0.85641]                        \n",
      "[ 1.       0.19612  0.48255  0.85983]                        \n",
      "[ 2.       0.19835  0.48015  0.85592]                        \n",
      "[ 3.       0.20136  0.48089  0.85641]                        \n",
      "[ 4.       0.20176  0.48349  0.85791]                        \n",
      "[ 5.       0.20113  0.47849  0.85641]                        \n",
      "[ 6.       0.19274  0.479    0.85641]                        \n",
      "\n"
     ]
    }
   ],
   "source": [
    "lr = np.array([1e-10, 1e-7, 1e-5])\n",
    "learn.fit(lr, 3, cycle_len=1, cycle_mult=2)"
   ]
  },
  {
   "cell_type": "code",
   "execution_count": null,
   "metadata": {
    "collapsed": true
   },
   "outputs": [],
   "source": []
  },
  {
   "cell_type": "markdown",
   "metadata": {},
   "source": [
    "# Predict on test set"
   ]
  },
  {
   "cell_type": "code",
   "execution_count": null,
   "metadata": {
    "collapsed": true
   },
   "outputs": [],
   "source": [
    "#preds = np.exp(learn.predict(is_test=True))"
   ]
  },
  {
   "cell_type": "code",
   "execution_count": null,
   "metadata": {
    "collapsed": true
   },
   "outputs": [],
   "source": [
    "#fnames = [x.split(\"/\")[1].split(\".\")[0] for x in data.test_dl.dataset.fnames]"
   ]
  },
  {
   "cell_type": "code",
   "execution_count": null,
   "metadata": {
    "collapsed": true
   },
   "outputs": [],
   "source": [
    "#final = pd.read_csv(f\"{PATH}/sample_submission.csv\")\n",
    "#final.loc[:,1:] = preds"
   ]
  },
  {
   "cell_type": "code",
   "execution_count": null,
   "metadata": {
    "collapsed": true
   },
   "outputs": [],
   "source": [
    "#f = \"submit1.csv\"\n",
    "#final.to_csv(f\"{PATH}{f}\", compression=\"gzip\", index=False)\n",
    "\n",
    "#from IPython.display import FileLink\n",
    "#FileLink(f\"{PATH}{f}\")"
   ]
  },
  {
   "cell_type": "code",
   "execution_count": null,
   "metadata": {
    "collapsed": true
   },
   "outputs": [],
   "source": []
  }
 ],
 "metadata": {
  "kernelspec": {
   "display_name": "Python 3",
   "language": "python",
   "name": "python3"
  },
  "language_info": {
   "codemirror_mode": {
    "name": "ipython",
    "version": 3
   },
   "file_extension": ".py",
   "mimetype": "text/x-python",
   "name": "python",
   "nbconvert_exporter": "python",
   "pygments_lexer": "ipython3",
   "version": "3.6.3"
  }
 },
 "nbformat": 4,
 "nbformat_minor": 2
}
