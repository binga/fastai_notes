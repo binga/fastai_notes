{
 "cells": [
  {
   "cell_type": "markdown",
   "metadata": {},
   "source": [
    "# Plant Seedings\n",
    "https://www.kaggle.com/c/plant-seedlings-classification"
   ]
  },
  {
   "cell_type": "code",
   "execution_count": 1,
   "metadata": {
    "collapsed": true
   },
   "outputs": [],
   "source": [
    "# Shell script for preparing data\n",
    "# cd data\n",
    "# mkdir plantseedings\n",
    "# cd plantseedings\n",
    "# kg download -u <username> -p <password> -c plant-seedlings-classification -f sample_submission.csv.zip\n",
    "# kg download -u <username> -p <password> -c plant-seedlings-classification -f test.zip\n",
    "# kg download -u <username> -p <password> -c plant-seedlings-classification -f train.zip\n",
    "\n",
    "# unzip -q sample_submission.csv.zip\n",
    "# unzip -q test.zip\n",
    "# unzip -q train.zip"
   ]
  },
  {
   "cell_type": "code",
   "execution_count": 4,
   "metadata": {
    "collapsed": true
   },
   "outputs": [],
   "source": [
    "# Put these at the top of every notebook, to get automatic reloading and inline plotting\n",
    "%reload_ext autoreload\n",
    "%autoreload 2\n",
    "%matplotlib inline"
   ]
  },
  {
   "cell_type": "code",
   "execution_count": 5,
   "metadata": {
    "collapsed": true
   },
   "outputs": [],
   "source": [
    "import warnings\n",
    "warnings.filterwarnings(\"ignore\")"
   ]
  },
  {
   "cell_type": "code",
   "execution_count": 6,
   "metadata": {
    "collapsed": true
   },
   "outputs": [],
   "source": [
    "from fastai.imports import *"
   ]
  },
  {
   "cell_type": "code",
   "execution_count": 7,
   "metadata": {
    "collapsed": true
   },
   "outputs": [],
   "source": [
    "from fastai.transforms import *\n",
    "from fastai.conv_learner import *\n",
    "from fastai.model import *\n",
    "from fastai.dataset import *\n",
    "from fastai.sgdr import *\n",
    "from fastai.plots import *"
   ]
  },
  {
   "cell_type": "markdown",
   "metadata": {},
   "source": [
    "# Build the model"
   ]
  },
  {
   "cell_type": "markdown",
   "metadata": {},
   "source": [
    "Since the evaluation metric of the competition is mean f1 score, let's add it to our metrics list."
   ]
  },
  {
   "cell_type": "code",
   "execution_count": 8,
   "metadata": {
    "collapsed": true
   },
   "outputs": [],
   "source": [
    "from sklearn.metrics import f1_score\n",
    "\n",
    "def f1(preds, targs):\n",
    "    return f1_score(targs, np.argmax(preds, axis=1), average='micro')\n",
    "    \n",
    "metrics = [f1]"
   ]
  },
  {
   "cell_type": "code",
   "execution_count": 9,
   "metadata": {
    "collapsed": true
   },
   "outputs": [],
   "source": [
    "PATH= \"data/plantseedings/\"\n",
    "sz = 224\n",
    "bs = 64"
   ]
  },
  {
   "cell_type": "markdown",
   "metadata": {},
   "source": [
    "#  Build model"
   ]
  },
  {
   "cell_type": "code",
   "execution_count": 10,
   "metadata": {},
   "outputs": [],
   "source": [
    "arch = resnet50\n",
    "tfms = tfms_from_model(arch, sz, aug_tfms=transforms_top_down, max_zoom=1.1)\n",
    "\n",
    "data = ImageClassifierData.from_paths(PATH, bs=bs, tfms=tfms, trn_name=\"train\", \n",
    "                                      val_name=\"train\", # Have to change this!!!!! It's a sin I'm committing!\n",
    "                                      test_name=\"test\")"
   ]
  },
  {
   "cell_type": "code",
   "execution_count": 11,
   "metadata": {},
   "outputs": [],
   "source": [
    "torch.manual_seed(43)\n",
    "learn = ConvLearner.pretrained(arch, data, precompute=True, metrics=metrics)"
   ]
  },
  {
   "cell_type": "code",
   "execution_count": 12,
   "metadata": {
    "scrolled": true
   },
   "outputs": [
    {
     "data": {
      "application/vnd.jupyter.widget-view+json": {
       "model_id": "ae2e452e61e34fed85c4ac6b7267a014",
       "version_major": 2,
       "version_minor": 0
      },
      "text/plain": [
       "A Jupyter Widget"
      ]
     },
     "metadata": {},
     "output_type": "display_data"
    },
    {
     "name": "stdout",
     "output_type": "stream",
     "text": [
      " 53%|█████▎    | 40/75 [00:01<00:01, 28.41it/s, loss=11.4]\n",
      "                                                          \r"
     ]
    }
   ],
   "source": [
    "lrf = learn.lr_find()"
   ]
  },
  {
   "cell_type": "code",
   "execution_count": 13,
   "metadata": {},
   "outputs": [
    {
     "data": {
      "image/png": "[encoded data removed]",
      "text/plain": [
       "<matplotlib.figure.Figure at 0x7f2133e3e748>"
      ]
     },
     "metadata": {},
     "output_type": "display_data"
    }
   ],
   "source": [
    "learn.sched.plot()"
   ]
  },
  {
   "cell_type": "code",
   "execution_count": 14,
   "metadata": {},
   "outputs": [
    {
     "data": {
      "application/vnd.jupyter.widget-view+json": {
       "model_id": "ef0c969b908147168f24ee9ac5d884b5",
       "version_major": 2,
       "version_minor": 0
      },
      "text/plain": [
       "A Jupyter Widget"
      ]
     },
     "metadata": {},
     "output_type": "display_data"
    },
    {
     "name": "stdout",
     "output_type": "stream",
     "text": [
      "[ 0.       1.06297  0.50921  0.82259]                     \n",
      "[ 1.       0.76098  0.32987  0.89571]                      \n",
      "[ 2.       0.58301  0.27624  0.9053 ]                      \n",
      "[ 3.       0.44985  0.25507  0.91777]                      \n",
      "[ 4.       0.40732  0.17471  0.93872]                      \n",
      "\n"
     ]
    }
   ],
   "source": [
    "learn.fit(0.05, 5)"
   ]
  },
  {
   "cell_type": "code",
   "execution_count": 15,
   "metadata": {
    "collapsed": true
   },
   "outputs": [],
   "source": [
    "learn.precompute = False"
   ]
  },
  {
   "cell_type": "code",
   "execution_count": 16,
   "metadata": {},
   "outputs": [
    {
     "data": {
      "application/vnd.jupyter.widget-view+json": {
       "model_id": "12599d1377d44cb6a7109b97be13c1b2",
       "version_major": 2,
       "version_minor": 0
      },
      "text/plain": [
       "A Jupyter Widget"
      ]
     },
     "metadata": {},
     "output_type": "display_data"
    },
    {
     "name": "stdout",
     "output_type": "stream",
     "text": [
      " 91%|█████████ | 68/75 [00:13<00:01,  5.13it/s, loss=2.5]  "
     ]
    }
   ],
   "source": [
    "learn.lr_find()"
   ]
  },
  {
   "cell_type": "code",
   "execution_count": 17,
   "metadata": {},
   "outputs": [
    {
     "data": {
      "image/png": "[encoded data removed]",
      "text/plain": [
       "<matplotlib.figure.Figure at 0x7f20ea23e7f0>"
      ]
     },
     "metadata": {},
     "output_type": "display_data"
    }
   ],
   "source": [
    "learn.sched.plot()"
   ]
  },
  {
   "cell_type": "code",
   "execution_count": 18,
   "metadata": {},
   "outputs": [
    {
     "data": {
      "application/vnd.jupyter.widget-view+json": {
       "model_id": "737e615dd25642619eafd04c23dfca05",
       "version_major": 2,
       "version_minor": 0
      },
      "text/plain": [
       "A Jupyter Widget"
      ]
     },
     "metadata": {},
     "output_type": "display_data"
    },
    {
     "name": "stdout",
     "output_type": "stream",
     "text": [
      "\n",
      "  0%|          | 0/75 [00:00<?, ?it/s]\u001b[A\n",
      "  0%|          | 0/75 [00:01<?, ?it/s, loss=0.542]\u001b[A\n",
      "  1%|▏         | 1/75 [00:01<01:40,  1.36s/it, loss=0.542]\u001b[A\n",
      "  1%|▏         | 1/75 [00:01<01:48,  1.46s/it, loss=0.515]\u001b[A\n",
      "  3%|▎         | 2/75 [00:01<00:53,  1.36it/s, loss=0.515]\u001b[A\n",
      "  3%|▎         | 2/75 [00:01<01:05,  1.11it/s, loss=0.516]\u001b[A\n",
      "  4%|▍         | 3/75 [00:01<00:43,  1.66it/s, loss=0.516]\u001b[A\n",
      "  4%|▍         | 3/75 [00:01<00:45,  1.57it/s, loss=0.571]\u001b[A\n",
      "  5%|▌         | 4/75 [00:01<00:34,  2.08it/s, loss=0.571]\u001b[A\n",
      "  5%|▌         | 4/75 [00:02<00:35,  1.97it/s, loss=0.576]\u001b[A\n",
      "  7%|▋         | 5/75 [00:02<00:28,  2.46it/s, loss=0.576]\u001b[A\n",
      "  7%|▋         | 5/75 [00:02<00:29,  2.34it/s, loss=0.613]\u001b[A\n",
      "  8%|▊         | 6/75 [00:02<00:24,  2.79it/s, loss=0.613]\u001b[A\n",
      "  8%|▊         | 6/75 [00:02<00:26,  2.60it/s, loss=0.581]\u001b[A\n",
      "  9%|▉         | 7/75 [00:02<00:22,  3.03it/s, loss=0.581]\u001b[A\n",
      "  9%|▉         | 7/75 [00:02<00:23,  2.90it/s, loss=0.619]\u001b[A\n",
      " 11%|█         | 8/75 [00:02<00:20,  3.30it/s, loss=0.619]\u001b[A\n",
      " 11%|█         | 8/75 [00:02<00:21,  3.14it/s, loss=0.601]\u001b[A\n",
      " 12%|█▏        | 9/75 [00:02<00:18,  3.53it/s, loss=0.601]\u001b[A\n",
      " 12%|█▏        | 9/75 [00:02<00:19,  3.34it/s, loss=0.574]\u001b[A\n",
      " 13%|█▎        | 10/75 [00:02<00:17,  3.70it/s, loss=0.574]\u001b[A\n",
      " 13%|█▎        | 10/75 [00:02<00:18,  3.54it/s, loss=0.571]\u001b[A\n",
      " 15%|█▍        | 11/75 [00:02<00:16,  3.87it/s, loss=0.571]\u001b[A\n",
      " 15%|█▍        | 11/75 [00:02<00:17,  3.74it/s, loss=0.604]\u001b[A\n",
      " 16%|█▌        | 12/75 [00:02<00:15,  4.05it/s, loss=0.604]\u001b[A\n",
      " 16%|█▌        | 12/75 [00:03<00:16,  3.91it/s, loss=0.624]\u001b[A\n",
      " 17%|█▋        | 13/75 [00:03<00:14,  4.22it/s, loss=0.624]\u001b[A\n",
      " 17%|█▋        | 13/75 [00:03<00:15,  4.09it/s, loss=0.618]\u001b[A\n",
      " 19%|█▊        | 14/75 [00:03<00:13,  4.39it/s, loss=0.618]\u001b[A\n",
      " 19%|█▊        | 14/75 [00:03<00:15,  3.96it/s, loss=0.615]\u001b[A\n",
      " 20%|██        | 15/75 [00:03<00:14,  4.23it/s, loss=0.615]\u001b[A\n",
      " 20%|██        | 15/75 [00:03<00:14,  4.12it/s, loss=0.615]\u001b[A\n",
      " 21%|██▏       | 16/75 [00:03<00:13,  4.39it/s, loss=0.615]\u001b[A\n",
      " 21%|██▏       | 16/75 [00:03<00:13,  4.25it/s, loss=0.608]\u001b[A\n",
      " 23%|██▎       | 17/75 [00:03<00:12,  4.51it/s, loss=0.608]\u001b[A\n",
      " 23%|██▎       | 17/75 [00:04<00:13,  4.18it/s, loss=0.597]\u001b[A\n",
      " 24%|██▍       | 18/75 [00:04<00:12,  4.40it/s, loss=0.597]\u001b[A\n",
      " 24%|██▍       | 18/75 [00:04<00:13,  4.21it/s, loss=0.622]\u001b[A\n",
      " 25%|██▌       | 19/75 [00:04<00:12,  4.44it/s, loss=0.622]\u001b[A\n",
      " 27%|██▋       | 20/75 [00:04<00:12,  4.55it/s, loss=0.626]"
     ]
    },
    {
     "name": "stderr",
     "output_type": "stream",
     "text": [
      "Exception in thread Thread-12:\n",
      "Traceback (most recent call last):\n",
      "  File \"/home/ubuntu/src/anaconda3/envs/fastai/lib/python3.6/threading.py\", line 916, in _bootstrap_inner\n",
      "    self.run()\n",
      "  File \"/home/ubuntu/src/anaconda3/envs/fastai/lib/python3.6/site-packages/tqdm/_tqdm.py\", line 144, in run\n",
      "    for instance in self.tqdm_cls._instances:\n",
      "  File \"/home/ubuntu/src/anaconda3/envs/fastai/lib/python3.6/_weakrefset.py\", line 60, in __iter__\n",
      "    for itemref in self.data:\n",
      "RuntimeError: Set changed size during iteration\n",
      "\n",
      "Exception in thread Thread-13:\n",
      "Traceback (most recent call last):\n",
      "  File \"/home/ubuntu/src/anaconda3/envs/fastai/lib/python3.6/threading.py\", line 916, in _bootstrap_inner\n",
      "    self.run()\n",
      "  File \"/home/ubuntu/src/anaconda3/envs/fastai/lib/python3.6/site-packages/tqdm/_tqdm.py\", line 144, in run\n",
      "    for instance in self.tqdm_cls._instances:\n",
      "  File \"/home/ubuntu/src/anaconda3/envs/fastai/lib/python3.6/_weakrefset.py\", line 60, in __iter__\n",
      "    for itemref in self.data:\n",
      "RuntimeError: Set changed size during iteration\n",
      "\n"
     ]
    },
    {
     "name": "stdout",
     "output_type": "stream",
     "text": [
      "[ 0.       0.5942   0.14786  0.95176]                      \n",
      "[ 1.       0.56484  0.12666  0.95884]                      \n",
      "[ 2.       0.5558   0.12036  0.96405]                      \n",
      "[ 3.       0.5133   0.1165   0.96217]                      \n",
      "[ 4.       0.49183  0.10614  0.96571]                      \n",
      "\n"
     ]
    }
   ],
   "source": [
    "learn.fit(1e-3, 5, cycle_len=1)"
   ]
  },
  {
   "cell_type": "code",
   "execution_count": 19,
   "metadata": {
    "collapsed": true
   },
   "outputs": [],
   "source": [
    "learn.save(\"resnet50_224_1\")"
   ]
  },
  {
   "cell_type": "code",
   "execution_count": 15,
   "metadata": {},
   "outputs": [
    {
     "data": {
      "image/png": "[encoded data removed]",
      "text/plain": [
       "<matplotlib.figure.Figure at 0x7f36f137d198>"
      ]
     },
     "metadata": {},
     "output_type": "display_data"
    }
   ],
   "source": [
    "learn.sched.plot_lr()"
   ]
  },
  {
   "cell_type": "code",
   "execution_count": 20,
   "metadata": {},
   "outputs": [
    {
     "data": {
      "application/vnd.jupyter.widget-view+json": {
       "model_id": "2baa61221f3f4f43abbc64a79d28e95f",
       "version_major": 2,
       "version_minor": 0
      },
      "text/plain": [
       "A Jupyter Widget"
      ]
     },
     "metadata": {},
     "output_type": "display_data"
    },
    {
     "name": "stdout",
     "output_type": "stream",
     "text": [
      "[ 0.       0.51273  0.10738  0.96426]                      \n",
      "[ 1.       0.47839  0.11035  0.96467]                      \n",
      "[ 2.       0.46249  0.10912  0.96551]                      \n",
      "[ 3.       0.47456  0.10989  0.96405]                      \n",
      "[ 4.       0.47916  0.11131  0.96634]                      \n",
      "[ 5.       0.45032  0.10716  0.96509]                      \n",
      "[ 6.       0.46541  0.10601  0.9653 ]                      \n",
      "\n"
     ]
    }
   ],
   "source": [
    "learn.fit(1e-3, 3, cycle_len=1, cycle_mult=2)"
   ]
  },
  {
   "cell_type": "markdown",
   "metadata": {},
   "source": [
    "# Predict on test set"
   ]
  },
  {
   "cell_type": "code",
   "execution_count": 26,
   "metadata": {},
   "outputs": [
    {
     "name": "stdout",
     "output_type": "stream",
     "text": [
      "                                             \r"
     ]
    }
   ],
   "source": [
    "preds, _ = learn.TTA(is_test=True)"
   ]
  },
  {
   "cell_type": "code",
   "execution_count": 37,
   "metadata": {},
   "outputs": [],
   "source": [
    "final_preds = [data.classes[x] for x in np.argmax(preds, axis=1)]\n",
    "fnames = [x.split(\"/\")[1] for x in data.test_ds.fnames]"
   ]
  },
  {
   "cell_type": "code",
   "execution_count": 39,
   "metadata": {},
   "outputs": [
    {
     "data": {
      "text/html": [
       "<a href='data/plantseedings/submit1.csv' target='_blank'>data/plantseedings/submit1.csv</a><br>"
      ],
      "text/plain": [
       "/home/ubuntu/fastai/courses/dl1/data/plantseedings/submit1.csv"
      ]
     },
     "execution_count": 39,
     "metadata": {},
     "output_type": "execute_result"
    }
   ],
   "source": [
    "final = pd.DataFrame({'file': fnames, 'species': final_preds})\n",
    "\n",
    "f = \"submit1.csv\"\n",
    "final.to_csv(f\"{PATH}{f}\", index=False)\n",
    "\n",
    "from IPython.display import FileLink\n",
    "FileLink(f\"{PATH}{f}\")"
   ]
  },
  {
   "cell_type": "code",
   "execution_count": null,
   "metadata": {
    "collapsed": true
   },
   "outputs": [],
   "source": []
  }
 ],
 "metadata": {
  "kernelspec": {
   "display_name": "Python 3",
   "language": "python",
   "name": "python3"
  },
  "language_info": {
   "codemirror_mode": {
    "name": "ipython",
    "version": 3
   },
   "file_extension": ".py",
   "mimetype": "text/x-python",
   "name": "python",
   "nbconvert_exporter": "python",
   "pygments_lexer": "ipython3",
   "version": "3.6.3"
  }
 },
 "nbformat": 4,
 "nbformat_minor": 2
}
