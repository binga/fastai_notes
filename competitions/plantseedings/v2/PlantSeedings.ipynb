{
 "cells": [
  {
   "cell_type": "markdown",
   "metadata": {},
   "source": [
    "# Plant Seedings\n",
    "https://www.kaggle.com/c/plant-seedlings-classification"
   ]
  },
  {
   "cell_type": "code",
   "execution_count": 1,
   "metadata": {
    "collapsed": true
   },
   "outputs": [],
   "source": [
    "# Shell script for preparing data\n",
    "# cd data\n",
    "# mkdir plantseedings\n",
    "# cd plantseedings\n",
    "# kg download -u <username> -p <password> -c plant-seedlings-classification -f sample_submission.csv.zip\n",
    "# kg download -u <username> -p <password> -c plant-seedlings-classification -f test.zip\n",
    "# kg download -u <username> -p <password> -c plant-seedlings-classification -f train.zip\n",
    "\n",
    "# unzip -q sample_submission.csv.zip\n",
    "# unzip -q test.zip\n",
    "# unzip -q train.zip"
   ]
  },
  {
   "cell_type": "code",
   "execution_count": 1,
   "metadata": {
    "collapsed": true
   },
   "outputs": [],
   "source": [
    "# Put these at the top of every notebook, to get automatic reloading and inline plotting\n",
    "%reload_ext autoreload\n",
    "%autoreload 2\n",
    "%matplotlib inline"
   ]
  },
  {
   "cell_type": "code",
   "execution_count": 2,
   "metadata": {
    "collapsed": true
   },
   "outputs": [],
   "source": [
    "import warnings\n",
    "warnings.filterwarnings(\"ignore\")"
   ]
  },
  {
   "cell_type": "code",
   "execution_count": 3,
   "metadata": {
    "collapsed": true
   },
   "outputs": [],
   "source": [
    "from fastai.imports import *"
   ]
  },
  {
   "cell_type": "code",
   "execution_count": 4,
   "metadata": {
    "collapsed": true
   },
   "outputs": [],
   "source": [
    "from fastai.transforms import *\n",
    "from fastai.conv_learner import *\n",
    "from fastai.model import *\n",
    "from fastai.dataset import *\n",
    "from fastai.sgdr import *\n",
    "from fastai.plots import *"
   ]
  },
  {
   "cell_type": "markdown",
   "metadata": {},
   "source": [
    "# Build the model"
   ]
  },
  {
   "cell_type": "markdown",
   "metadata": {},
   "source": [
    "Since the evaluation metric of the competition is mean f1 score, let's add it to our metrics list."
   ]
  },
  {
   "cell_type": "code",
   "execution_count": 5,
   "metadata": {
    "collapsed": true
   },
   "outputs": [],
   "source": [
    "from sklearn.metrics import f1_score\n",
    "\n",
    "def f1(preds, targs):\n",
    "    return f1_score(targs, np.argmax(preds, axis=1), average='micro')\n",
    "    \n",
    "metrics = [f1]"
   ]
  },
  {
   "cell_type": "code",
   "execution_count": 6,
   "metadata": {
    "collapsed": true
   },
   "outputs": [],
   "source": [
    "PATH= \"data/plantseedings/\"\n",
    "sz = 224\n",
    "bs = 64"
   ]
  },
  {
   "cell_type": "markdown",
   "metadata": {},
   "source": [
    "#  Build model"
   ]
  },
  {
   "cell_type": "code",
   "execution_count": 21,
   "metadata": {
    "collapsed": true
   },
   "outputs": [],
   "source": [
    "arch = resnext101_64#resnet50\n",
    "tfms = tfms_from_model(arch, sz, aug_tfms=transforms_top_down, max_zoom=1.1)\n",
    "\n",
    "data = ImageClassifierData.from_paths(PATH, bs=bs, tfms=tfms, trn_name=\"train\", \n",
    "                                      val_name=\"train\", # Have to change this!!!!! It's a sin I'm committing!\n",
    "                                      test_name=\"test\")"
   ]
  },
  {
   "cell_type": "code",
   "execution_count": 22,
   "metadata": {},
   "outputs": [
    {
     "name": "stdout",
     "output_type": "stream",
     "text": [
      "100%|██████████| 75/75 [00:25<00:00,  2.92it/s]\n",
      "100%|██████████| 75/75 [00:25<00:00,  2.91it/s]\n",
      "100%|██████████| 13/13 [00:04<00:00,  3.10it/s]\n"
     ]
    }
   ],
   "source": [
    "torch.manual_seed(43)\n",
    "learn = ConvLearner.pretrained(arch, data, precompute=True, metrics=metrics)"
   ]
  },
  {
   "cell_type": "code",
   "execution_count": 23,
   "metadata": {
    "scrolled": true
   },
   "outputs": [
    {
     "data": {
      "application/vnd.jupyter.widget-view+json": {
       "model_id": "b72a0c7a0a7f4ac18fabbb0daf666655",
       "version_major": 2,
       "version_minor": 0
      },
      "text/plain": [
       "A Jupyter Widget"
      ]
     },
     "metadata": {},
     "output_type": "display_data"
    },
    {
     "name": "stdout",
     "output_type": "stream",
     "text": [
      " 91%|█████████ | 68/75 [00:01<00:00, 50.46it/s, loss=15.8]\n",
      "                                                          \r"
     ]
    }
   ],
   "source": [
    "lrf = learn.lr_find()"
   ]
  },
  {
   "cell_type": "code",
   "execution_count": 24,
   "metadata": {},
   "outputs": [
    {
     "data": {
      "image/png": "[encoded data removed]",
      "text/plain": [
       "<matplotlib.figure.Figure at 0x7fd7df5eff98>"
      ]
     },
     "metadata": {},
     "output_type": "display_data"
    }
   ],
   "source": [
    "learn.sched.plot()"
   ]
  },
  {
   "cell_type": "code",
   "execution_count": 25,
   "metadata": {},
   "outputs": [
    {
     "data": {
      "application/vnd.jupyter.widget-view+json": {
       "model_id": "61f017180c434b34b0a08418ab64dc0a",
       "version_major": 2,
       "version_minor": 0
      },
      "text/plain": [
       "A Jupyter Widget"
      ]
     },
     "metadata": {},
     "output_type": "display_data"
    },
    {
     "name": "stdout",
     "output_type": "stream",
     "text": [
      "[ 0.       0.90748  0.41477  0.8581 ]                      \n",
      "[ 1.       0.60327  0.25129  0.91071]                      \n",
      "[ 2.       0.49486  0.20808  0.92967]                      \n",
      "[ 3.       0.40317  0.13729  0.95551]                      \n",
      "[ 4.       0.32004  0.14135  0.95634]                      \n",
      "\n"
     ]
    }
   ],
   "source": [
    "learn.fit(0.05, 5)"
   ]
  },
  {
   "cell_type": "code",
   "execution_count": null,
   "metadata": {
    "collapsed": true
   },
   "outputs": [],
   "source": [
    "[ 0.       1.06297  0.50921  0.82259]                     \n",
    "[ 1.       0.76098  0.32987  0.89571]                      \n",
    "[ 2.       0.58301  0.27624  0.9053 ]                      \n",
    "[ 3.       0.44985  0.25507  0.91777]                      \n",
    "[ 4.       0.40732  0.17471  0.93872]    "
   ]
  },
  {
   "cell_type": "code",
   "execution_count": 26,
   "metadata": {
    "collapsed": true
   },
   "outputs": [],
   "source": [
    "learn.precompute = False"
   ]
  },
  {
   "cell_type": "code",
   "execution_count": 27,
   "metadata": {},
   "outputs": [
    {
     "data": {
      "application/vnd.jupyter.widget-view+json": {
       "model_id": "1c1496e9f4564fbfa6db72d8cae5f406",
       "version_major": 2,
       "version_minor": 0
      },
      "text/plain": [
       "A Jupyter Widget"
      ]
     },
     "metadata": {},
     "output_type": "display_data"
    },
    {
     "name": "stdout",
     "output_type": "stream",
     "text": [
      " 92%|█████████▏| 69/75 [00:22<00:01,  3.01it/s, loss=2.86] "
     ]
    }
   ],
   "source": [
    "learn.lr_find()"
   ]
  },
  {
   "cell_type": "code",
   "execution_count": 28,
   "metadata": {},
   "outputs": [
    {
     "data": {
      "image/png": "[encoded data removed]",
      "text/plain": [
       "<matplotlib.figure.Figure at 0x7fd7df609048>"
      ]
     },
     "metadata": {},
     "output_type": "display_data"
    }
   ],
   "source": [
    "learn.sched.plot()"
   ]
  },
  {
   "cell_type": "code",
   "execution_count": 29,
   "metadata": {
    "scrolled": true
   },
   "outputs": [
    {
     "data": {
      "application/vnd.jupyter.widget-view+json": {
       "model_id": "5f657769e6ee4372bcf20cd6a40eaf2e",
       "version_major": 2,
       "version_minor": 0
      },
      "text/plain": [
       "A Jupyter Widget"
      ]
     },
     "metadata": {},
     "output_type": "display_data"
    },
    {
     "name": "stdout",
     "output_type": "stream",
     "text": [
      "\n",
      "  0%|          | 0/75 [00:00<?, ?it/s]\u001b[A\n",
      "  0%|          | 0/75 [00:01<?, ?it/s, loss=0.55]\u001b[A\n",
      "  1%|▏         | 1/75 [00:01<02:06,  1.72s/it, loss=0.55]\u001b[A\n",
      "  1%|▏         | 1/75 [00:02<02:30,  2.03s/it, loss=0.485]\u001b[A\n",
      "  3%|▎         | 2/75 [00:02<01:14,  1.02s/it, loss=0.485]\u001b[A\n",
      "  3%|▎         | 2/75 [00:02<01:26,  1.18s/it, loss=0.535]\u001b[A\n",
      "  4%|▍         | 3/75 [00:02<00:57,  1.26it/s, loss=0.535]\u001b[A\n",
      "  4%|▍         | 3/75 [00:02<01:04,  1.11it/s, loss=0.509]\u001b[A\n",
      "  5%|▌         | 4/75 [00:02<00:48,  1.48it/s, loss=0.509]\u001b[A\n",
      "  5%|▌         | 4/75 [00:03<00:54,  1.31it/s, loss=0.47] \u001b[A\n",
      "  7%|▋         | 5/75 [00:03<00:43,  1.63it/s, loss=0.47]\u001b[A\n",
      "  7%|▋         | 5/75 [00:03<00:47,  1.47it/s, loss=0.484]\u001b[A\n",
      "  8%|▊         | 6/75 [00:03<00:39,  1.76it/s, loss=0.484]\u001b[A\n",
      "  8%|▊         | 6/75 [00:03<00:42,  1.62it/s, loss=0.466]\u001b[A\n",
      "  9%|▉         | 7/75 [00:03<00:36,  1.88it/s, loss=0.466]\u001b[A\n",
      "  9%|▉         | 7/75 [00:04<00:39,  1.73it/s, loss=0.472]\u001b[A\n",
      " 11%|█         | 8/75 [00:04<00:33,  1.97it/s, loss=0.472]\u001b[A\n",
      " 11%|█         | 8/75 [00:04<00:36,  1.82it/s, loss=0.455]\u001b[A\n",
      " 12%|█▏        | 9/75 [00:04<00:32,  2.04it/s, loss=0.455]\u001b[A\n",
      " 12%|█▏        | 9/75 [00:04<00:34,  1.91it/s, loss=0.47] \u001b[A\n",
      " 13%|█▎        | 10/75 [00:04<00:30,  2.12it/s, loss=0.47]\u001b[A\n",
      " 13%|█▎        | 10/75 [00:05<00:32,  1.98it/s, loss=0.462]\u001b[A\n",
      " 15%|█▍        | 11/75 [00:05<00:29,  2.17it/s, loss=0.462]\u001b[A\n",
      " 15%|█▍        | 11/75 [00:05<00:31,  2.04it/s, loss=0.458]\u001b[A\n",
      " 16%|█▌        | 12/75 [00:05<00:28,  2.23it/s, loss=0.458]\u001b[A\n",
      " 16%|█▌        | 12/75 [00:05<00:29,  2.10it/s, loss=0.446]\u001b[A\n",
      " 17%|█▋        | 13/75 [00:05<00:27,  2.27it/s, loss=0.446]\u001b[A\n",
      " 17%|█▋        | 13/75 [00:06<00:28,  2.15it/s, loss=0.447]\u001b[A\n",
      " 19%|█▊        | 14/75 [00:06<00:26,  2.32it/s, loss=0.447]\u001b[A\n",
      " 19%|█▊        | 14/75 [00:06<00:27,  2.20it/s, loss=0.446]\u001b[A\n",
      " 20%|██        | 15/75 [00:06<00:25,  2.36it/s, loss=0.446]\u001b[A\n",
      " 20%|██        | 15/75 [00:06<00:26,  2.24it/s, loss=0.445]\u001b[A\n",
      " 21%|██▏       | 16/75 [00:06<00:24,  2.39it/s, loss=0.445]\u001b[A\n",
      " 21%|██▏       | 16/75 [00:07<00:25,  2.29it/s, loss=0.446]\u001b[A\n",
      " 23%|██▎       | 17/75 [00:07<00:23,  2.42it/s, loss=0.446]\u001b[A\n",
      " 23%|██▎       | 17/75 [00:07<00:24,  2.32it/s, loss=0.455]\u001b[A\n",
      " 24%|██▍       | 18/75 [00:07<00:23,  2.45it/s, loss=0.455]\u001b[A\n",
      " 24%|██▍       | 18/75 [00:07<00:24,  2.35it/s, loss=0.462]\u001b[A\n",
      " 25%|██▌       | 19/75 [00:07<00:22,  2.48it/s, loss=0.462]\u001b[A\n",
      " 25%|██▌       | 19/75 [00:07<00:23,  2.38it/s, loss=0.461]\u001b[A\n",
      " 27%|██▋       | 20/75 [00:08<00:22,  2.50it/s, loss=0.461]\u001b[A\n",
      " 27%|██▋       | 20/75 [00:08<00:22,  2.40it/s, loss=0.447]\u001b[A\n",
      " 28%|██▊       | 21/75 [00:08<00:21,  2.52it/s, loss=0.447]\u001b[A\n",
      " 28%|██▊       | 21/75 [00:08<00:22,  2.43it/s, loss=0.443]\u001b[A\n",
      " 29%|██▉       | 22/75 [00:08<00:20,  2.54it/s, loss=0.443]\u001b[A\n",
      " 29%|██▉       | 22/75 [00:08<00:21,  2.46it/s, loss=0.437]\u001b[A\n",
      " 31%|███       | 23/75 [00:08<00:20,  2.56it/s, loss=0.437]\u001b[A\n",
      " 31%|███       | 23/75 [00:09<00:20,  2.48it/s, loss=0.432]\u001b[A\n",
      " 32%|███▏      | 24/75 [00:09<00:19,  2.58it/s, loss=0.432]\u001b[A\n",
      " 32%|███▏      | 24/75 [00:09<00:20,  2.50it/s, loss=0.432]\u001b[A\n",
      " 33%|███▎      | 25/75 [00:09<00:19,  2.60it/s, loss=0.432]\u001b[A\n",
      "\n",
      " 35%|███▍      | 26/75 [00:09<00:18,  2.61it/s, loss=0.427]\u001b[A"
     ]
    },
    {
     "name": "stderr",
     "output_type": "stream",
     "text": [
      "Exception in thread Thread-37:\n",
      "Traceback (most recent call last):\n",
      "  File \"/home/ubuntu/src/anaconda3/envs/fastai/lib/python3.6/threading.py\", line 916, in _bootstrap_inner\n",
      "    self.run()\n",
      "  File \"/home/ubuntu/src/anaconda3/envs/fastai/lib/python3.6/site-packages/tqdm/_tqdm.py\", line 144, in run\n",
      "    for instance in self.tqdm_cls._instances:\n",
      "  File \"/home/ubuntu/src/anaconda3/envs/fastai/lib/python3.6/_weakrefset.py\", line 60, in __iter__\n",
      "    for itemref in self.data:\n",
      "RuntimeError: Set changed size during iteration\n",
      "\n",
      "Exception in thread Thread-38:\n",
      "Traceback (most recent call last):\n",
      "  File \"/home/ubuntu/src/anaconda3/envs/fastai/lib/python3.6/threading.py\", line 916, in _bootstrap_inner\n",
      "    self.run()\n",
      "  File \"/home/ubuntu/src/anaconda3/envs/fastai/lib/python3.6/site-packages/tqdm/_tqdm.py\", line 144, in run\n",
      "    for instance in self.tqdm_cls._instances:\n",
      "  File \"/home/ubuntu/src/anaconda3/envs/fastai/lib/python3.6/_weakrefset.py\", line 60, in __iter__\n",
      "    for itemref in self.data:\n",
      "RuntimeError: Set changed size during iteration\n",
      "\n"
     ]
    },
    {
     "name": "stdout",
     "output_type": "stream",
     "text": [
      "[ 0.       0.49299  0.11805  0.96155]                      \n",
      "[ 1.       0.47167  0.10437  0.96655]                      \n",
      "[ 2.       0.43692  0.09596  0.96967]                      \n",
      "[ 3.       0.43161  0.09101  0.97051]                      \n",
      "[ 4.       0.43599  0.08961  0.9728 ]                      \n",
      "\n"
     ]
    }
   ],
   "source": [
    "learn.fit(1e-3, 5, cycle_len=1)"
   ]
  },
  {
   "cell_type": "code",
   "execution_count": 30,
   "metadata": {
    "collapsed": true
   },
   "outputs": [],
   "source": [
    "learn.save(\"resnext101_64__224__1\")"
   ]
  },
  {
   "cell_type": "code",
   "execution_count": 31,
   "metadata": {},
   "outputs": [
    {
     "data": {
      "image/png": "[encoded data removed]",
      "text/plain": [
       "<matplotlib.figure.Figure at 0x7fd7dd432710>"
      ]
     },
     "metadata": {},
     "output_type": "display_data"
    }
   ],
   "source": [
    "learn.sched.plot_lr()"
   ]
  },
  {
   "cell_type": "code",
   "execution_count": 35,
   "metadata": {
    "collapsed": true
   },
   "outputs": [],
   "source": [
    "learn.load(\"resnext101_64__224__1\")"
   ]
  },
  {
   "cell_type": "markdown",
   "metadata": {},
   "source": [
    "# Increase image size"
   ]
  },
  {
   "cell_type": "code",
   "execution_count": 36,
   "metadata": {
    "collapsed": true
   },
   "outputs": [],
   "source": [
    "def get_data(sz, bs):\n",
    "    tfms = tfms_from_model(arch, sz, aug_tfms=transforms_top_down, max_zoom=1.1)\n",
    "    data = ImageClassifierData.from_paths(PATH, bs=bs, tfms=tfms, trn_name=\"train\", \n",
    "                                          val_name=\"train\", # Have to change this!!!!! It's a sin I'm committing!\n",
    "                                          test_name=\"test\")\n",
    "    return data if sz < 300 else data.resize(299, 'tmp')"
   ]
  },
  {
   "cell_type": "code",
   "execution_count": 37,
   "metadata": {
    "collapsed": true
   },
   "outputs": [],
   "source": [
    "data = get_data(299, 64)"
   ]
  },
  {
   "cell_type": "code",
   "execution_count": 38,
   "metadata": {},
   "outputs": [
    {
     "data": {
      "application/vnd.jupyter.widget-view+json": {
       "model_id": "e8477ec902a04dd08401c4cfeec93dc4",
       "version_major": 2,
       "version_minor": 0
      },
      "text/plain": [
       "A Jupyter Widget"
      ]
     },
     "metadata": {},
     "output_type": "display_data"
    },
    {
     "name": "stdout",
     "output_type": "stream",
     "text": [
      "[ 0.       0.44318  0.09162  0.97259]                      \n",
      "[ 1.       0.40162  0.08607  0.97384]                      \n",
      "[ 2.       0.39043  0.08832  0.97217]                      \n",
      "[ 3.       0.41544  0.08262  0.97467]                      \n",
      "[ 4.       0.38428  0.0815   0.97613]                      \n",
      "[ 5.       0.36024  0.08149  0.9753 ]                      \n",
      "[ 6.       0.39141  0.07912  0.97759]                      \n",
      "\n"
     ]
    }
   ],
   "source": [
    "learn.fit(1e-3, 3, cycle_len=1, cycle_mult=2)"
   ]
  },
  {
   "cell_type": "markdown",
   "metadata": {},
   "source": [
    "# Predict on test set"
   ]
  },
  {
   "cell_type": "code",
   "execution_count": 39,
   "metadata": {},
   "outputs": [
    {
     "name": "stdout",
     "output_type": "stream",
     "text": [
      "                                             \r"
     ]
    }
   ],
   "source": [
    "preds, _ = learn.TTA(is_test=True)"
   ]
  },
  {
   "cell_type": "code",
   "execution_count": 40,
   "metadata": {
    "collapsed": true
   },
   "outputs": [],
   "source": [
    "final_preds = [data.classes[x] for x in np.argmax(preds, axis=1)]\n",
    "fnames = [x.split(\"/\")[1] for x in data.test_ds.fnames]"
   ]
  },
  {
   "cell_type": "code",
   "execution_count": 41,
   "metadata": {},
   "outputs": [
    {
     "data": {
      "text/html": [
       "<a href='data/plantseedings/submit2.csv' target='_blank'>data/plantseedings/submit2.csv</a><br>"
      ],
      "text/plain": [
       "/home/ubuntu/fastai/courses/dl1/data/plantseedings/submit2.csv"
      ]
     },
     "execution_count": 41,
     "metadata": {},
     "output_type": "execute_result"
    }
   ],
   "source": [
    "final = pd.DataFrame({'file': fnames, 'species': final_preds})\n",
    "\n",
    "f = \"submit2.csv\"\n",
    "final.to_csv(f\"{PATH}{f}\", index=False)\n",
    "\n",
    "from IPython.display import FileLink\n",
    "FileLink(f\"{PATH}{f}\")"
   ]
  },
  {
   "cell_type": "code",
   "execution_count": null,
   "metadata": {
    "collapsed": true
   },
   "outputs": [],
   "source": []
  }
 ],
 "metadata": {
  "kernelspec": {
   "display_name": "Python 3",
   "language": "python",
   "name": "python3"
  },
  "language_info": {
   "codemirror_mode": {
    "name": "ipython",
    "version": 3
   },
   "file_extension": ".py",
   "mimetype": "text/x-python",
   "name": "python",
   "nbconvert_exporter": "python",
   "pygments_lexer": "ipython3",
   "version": "3.6.3"
  }
 },
 "nbformat": 4,
 "nbformat_minor": 2
}
