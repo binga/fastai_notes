{
 "cells": [
  {
   "cell_type": "code",
   "execution_count": 3,
   "metadata": {},
   "outputs": [],
   "source": [
    "! mkdir ~/data/happydb"
   ]
  },
  {
   "cell_type": "code",
   "execution_count": 4,
   "metadata": {},
   "outputs": [
    {
     "name": "stdout",
     "output_type": "stream",
     "text": [
      "Cloning into '/home/ubuntu/data/happydb'...\n",
      "remote: Counting objects: 35, done.\u001b[K\n",
      "remote: Total 35 (delta 0), reused 0 (delta 0), pack-reused 35\u001b[K\n",
      "Unpacking objects: 100% (35/35), done.\n",
      "Checking connectivity... done.\n"
     ]
    }
   ],
   "source": [
    "!  git clone https://github.com/rit-public/HappyDB.git /home/ubuntu/data/happydb/"
   ]
  },
  {
   "cell_type": "code",
   "execution_count": null,
   "metadata": {},
   "outputs": [],
   "source": []
  }
 ],
 "metadata": {
  "kernelspec": {
   "display_name": "Python 3",
   "language": "python",
   "name": "python3"
  },
  "language_info": {
   "codemirror_mode": {
    "name": "ipython",
    "version": 3
   },
   "file_extension": ".py",
   "mimetype": "text/x-python",
   "name": "python",
   "nbconvert_exporter": "python",
   "pygments_lexer": "ipython3",
   "version": "3.6.5"
  }
 },
 "nbformat": 4,
 "nbformat_minor": 2
}
